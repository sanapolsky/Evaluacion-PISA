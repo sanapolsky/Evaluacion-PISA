{
 "cells": [
  {
   "cell_type": "code",
   "execution_count": 1,
   "metadata": {},
   "outputs": [],
   "source": [
    "import numpy as np\n",
    "import matplotlib as mpl\n",
    "import matplotlib.pyplot as plt\n",
    "%matplotlib inline\n",
    "import pandas as pd\n",
    "import geopandas as gpd\n",
    "import pickle\n",
    "from shapely.geometry import Point\n",
    "import os\n",
    "import re\n",
    "import seaborn as sns\n",
    "from sklearn.model_selection import cross_val_score\n",
    "from sklearn.neighbors import KNeighborsClassifier\n",
    "from sklearn.model_selection import train_test_split, KFold, cross_val_score\n",
    "from sklearn.linear_model import LinearRegression, Lasso, LassoCV, Ridge, RidgeCV\n",
    "from sklearn.preprocessing import PolynomialFeatures, StandardScaler\n",
    "\n",
    "import pyreadstat\n"
   ]
  },
  {
   "cell_type": "code",
   "execution_count": 298,
   "metadata": {},
   "outputs": [
    {
     "name": "stdout",
     "output_type": "stream",
     "text": [
      "Collecting pyreadstat\n",
      "  Downloading https://files.pythonhosted.org/packages/78/1e/ad6f681ba071e74b5c8ccab42299d8b638e1e802f1490ce114cd46e53dbc/pyreadstat-0.2.8-cp37-cp37m-win_amd64.whl (1.2MB)\n",
      "Installing collected packages: pyreadstat\n",
      "Successfully installed pyreadstat-0.2.8\n"
     ]
    }
   ],
   "source": [
    "# !pip install pyreadstat"
   ]
  },
  {
   "cell_type": "code",
   "execution_count": 4,
   "metadata": {},
   "outputs": [],
   "source": [
    "from sklearn.model_selection import train_test_split\n",
    "from sklearn.model_selection import cross_val_score, KFold\n",
    "from sklearn.metrics import confusion_matrix\n",
    "from sklearn.preprocessing import StandardScaler\n",
    "from sklearn.metrics import recall_score\n",
    "from sklearn.metrics import precision_score\n",
    "from sklearn.metrics import f1_score\n",
    "from sklearn.metrics import roc_curve, auc\n",
    "from sklearn.metrics import mean_squared_error, r2_score"
   ]
  },
  {
   "cell_type": "markdown",
   "metadata": {},
   "source": [
    "## Carga, análisis y limpieza de datos desde bases SPSS de PISA"
   ]
  },
  {
   "cell_type": "code",
   "execution_count": 2,
   "metadata": {},
   "outputs": [
    {
     "ename": "ReadstatError",
     "evalue": "Unable to open file",
     "output_type": "error",
     "traceback": [
      "\u001b[1;31m---------------------------------------------------------------------------\u001b[0m",
      "\u001b[1;31mReadstatError\u001b[0m                             Traceback (most recent call last)",
      "\u001b[1;32m<ipython-input-2-df06f6521a7f>\u001b[0m in \u001b[0;36m<module>\u001b[1;34m\u001b[0m\n\u001b[1;32m----> 1\u001b[1;33m \u001b[0mstu\u001b[0m\u001b[1;33m,\u001b[0m \u001b[0mmeta_stu\u001b[0m \u001b[1;33m=\u001b[0m \u001b[0mpyreadstat\u001b[0m\u001b[1;33m.\u001b[0m\u001b[0mread_sav\u001b[0m\u001b[1;33m(\u001b[0m\u001b[1;34m\"CY6_MS_CM2_STU_QQQ.sav\"\u001b[0m\u001b[1;33m)\u001b[0m \u001b[1;31m#Levanta tabla de estudiantes\u001b[0m\u001b[1;33m\u001b[0m\u001b[1;33m\u001b[0m\u001b[0m\n\u001b[0m",
      "\u001b[1;32mpyreadstat\\pyreadstat.pyx\u001b[0m in \u001b[0;36mpyreadstat.pyreadstat.read_sav\u001b[1;34m()\u001b[0m\n",
      "\u001b[1;32mpyreadstat\\_readstat_parser.pyx\u001b[0m in \u001b[0;36mpyreadstat._readstat_parser.run_conversion\u001b[1;34m()\u001b[0m\n",
      "\u001b[1;32mpyreadstat\\_readstat_parser.pyx\u001b[0m in \u001b[0;36mpyreadstat._readstat_parser.run_readstat_parser\u001b[1;34m()\u001b[0m\n",
      "\u001b[1;31mReadstatError\u001b[0m: Unable to open file"
     ]
    }
   ],
   "source": [
    "stu, meta_stu = pyreadstat.read_sav(\"CY6_MS_CM2_STU_QQQ.sav\") #Levanta tabla de estudiantes"
   ]
  },
  {
   "cell_type": "code",
   "execution_count": null,
   "metadata": {},
   "outputs": [],
   "source": [
    "meta_stu"
   ]
  },
  {
   "cell_type": "code",
   "execution_count": null,
   "metadata": {},
   "outputs": [],
   "source": []
  },
  {
   "cell_type": "code",
   "execution_count": 283,
   "metadata": {},
   "outputs": [
    {
     "data": {
      "text/html": [
       "<div>\n",
       "<style scoped>\n",
       "    .dataframe tbody tr th:only-of-type {\n",
       "        vertical-align: middle;\n",
       "    }\n",
       "\n",
       "    .dataframe tbody tr th {\n",
       "        vertical-align: top;\n",
       "    }\n",
       "\n",
       "    .dataframe thead th {\n",
       "        text-align: right;\n",
       "    }\n",
       "</style>\n",
       "<table border=\"1\" class=\"dataframe\">\n",
       "  <thead>\n",
       "    <tr style=\"text-align: right;\">\n",
       "      <th></th>\n",
       "      <th>index</th>\n",
       "      <th>CNTRYID</th>\n",
       "      <th>CNT</th>\n",
       "      <th>CNTSCHID</th>\n",
       "      <th>CNTSTUID</th>\n",
       "      <th>CYC</th>\n",
       "      <th>NatCen</th>\n",
       "      <th>Region</th>\n",
       "      <th>STRATUM</th>\n",
       "      <th>SUBNATIO</th>\n",
       "      <th>...</th>\n",
       "      <th>SENWT</th>\n",
       "      <th>VER_DAT</th>\n",
       "      <th>MATH</th>\n",
       "      <th>READ</th>\n",
       "      <th>SCI</th>\n",
       "      <th>Max_Score</th>\n",
       "      <th>Min_Score</th>\n",
       "      <th>score_total</th>\n",
       "      <th>score_range</th>\n",
       "      <th>score_range2</th>\n",
       "    </tr>\n",
       "  </thead>\n",
       "  <tbody>\n",
       "    <tr>\n",
       "      <th>0</th>\n",
       "      <td>5215</td>\n",
       "      <td>32.0</td>\n",
       "      <td>ARG</td>\n",
       "      <td>3200001.0</td>\n",
       "      <td>3206226.0</td>\n",
       "      <td>06MS</td>\n",
       "      <td>003200</td>\n",
       "      <td>3200.0</td>\n",
       "      <td>ARG0003</td>\n",
       "      <td>0320000</td>\n",
       "      <td>...</td>\n",
       "      <td>0.74958</td>\n",
       "      <td>15NOV16:10:17:00</td>\n",
       "      <td>306.8010</td>\n",
       "      <td>259.1677</td>\n",
       "      <td>299.7150</td>\n",
       "      <td>MATH</td>\n",
       "      <td>READ</td>\n",
       "      <td>289.0</td>\n",
       "      <td>1</td>\n",
       "      <td>1</td>\n",
       "    </tr>\n",
       "    <tr>\n",
       "      <th>1</th>\n",
       "      <td>5216</td>\n",
       "      <td>32.0</td>\n",
       "      <td>ARG</td>\n",
       "      <td>3200001.0</td>\n",
       "      <td>3200366.0</td>\n",
       "      <td>06MS</td>\n",
       "      <td>003200</td>\n",
       "      <td>3200.0</td>\n",
       "      <td>ARG0003</td>\n",
       "      <td>0320000</td>\n",
       "      <td>...</td>\n",
       "      <td>0.74958</td>\n",
       "      <td>15NOV16:10:17:00</td>\n",
       "      <td>365.8349</td>\n",
       "      <td>368.9647</td>\n",
       "      <td>382.1997</td>\n",
       "      <td>SCI</td>\n",
       "      <td>MATH</td>\n",
       "      <td>372.0</td>\n",
       "      <td>1</td>\n",
       "      <td>1</td>\n",
       "    </tr>\n",
       "    <tr>\n",
       "      <th>2</th>\n",
       "      <td>5217</td>\n",
       "      <td>32.0</td>\n",
       "      <td>ARG</td>\n",
       "      <td>3200001.0</td>\n",
       "      <td>3200847.0</td>\n",
       "      <td>06MS</td>\n",
       "      <td>003200</td>\n",
       "      <td>3200.0</td>\n",
       "      <td>ARG0003</td>\n",
       "      <td>0320000</td>\n",
       "      <td>...</td>\n",
       "      <td>0.85682</td>\n",
       "      <td>15NOV16:10:17:00</td>\n",
       "      <td>277.4815</td>\n",
       "      <td>204.9901</td>\n",
       "      <td>209.5475</td>\n",
       "      <td>MATH</td>\n",
       "      <td>READ</td>\n",
       "      <td>231.0</td>\n",
       "      <td>1</td>\n",
       "      <td>1</td>\n",
       "    </tr>\n",
       "    <tr>\n",
       "      <th>3</th>\n",
       "      <td>5218</td>\n",
       "      <td>32.0</td>\n",
       "      <td>ARG</td>\n",
       "      <td>3200001.0</td>\n",
       "      <td>3206105.0</td>\n",
       "      <td>06MS</td>\n",
       "      <td>003200</td>\n",
       "      <td>3200.0</td>\n",
       "      <td>ARG0003</td>\n",
       "      <td>0320000</td>\n",
       "      <td>...</td>\n",
       "      <td>0.85682</td>\n",
       "      <td>15NOV16:10:17:00</td>\n",
       "      <td>366.4782</td>\n",
       "      <td>366.7180</td>\n",
       "      <td>385.4713</td>\n",
       "      <td>SCI</td>\n",
       "      <td>MATH</td>\n",
       "      <td>373.0</td>\n",
       "      <td>1</td>\n",
       "      <td>1</td>\n",
       "    </tr>\n",
       "    <tr>\n",
       "      <th>4</th>\n",
       "      <td>5219</td>\n",
       "      <td>32.0</td>\n",
       "      <td>ARG</td>\n",
       "      <td>3200001.0</td>\n",
       "      <td>3202446.0</td>\n",
       "      <td>06MS</td>\n",
       "      <td>003200</td>\n",
       "      <td>3200.0</td>\n",
       "      <td>ARG0003</td>\n",
       "      <td>0320000</td>\n",
       "      <td>...</td>\n",
       "      <td>0.85682</td>\n",
       "      <td>15NOV16:10:17:00</td>\n",
       "      <td>375.1508</td>\n",
       "      <td>266.5500</td>\n",
       "      <td>376.9701</td>\n",
       "      <td>SCI</td>\n",
       "      <td>READ</td>\n",
       "      <td>340.0</td>\n",
       "      <td>1</td>\n",
       "      <td>1</td>\n",
       "    </tr>\n",
       "  </tbody>\n",
       "</table>\n",
       "<p>5 rows × 930 columns</p>\n",
       "</div>"
      ],
      "text/plain": [
       "   index  CNTRYID  CNT   CNTSCHID   CNTSTUID   CYC  NatCen  Region  STRATUM  \\\n",
       "0   5215     32.0  ARG  3200001.0  3206226.0  06MS  003200  3200.0  ARG0003   \n",
       "1   5216     32.0  ARG  3200001.0  3200366.0  06MS  003200  3200.0  ARG0003   \n",
       "2   5217     32.0  ARG  3200001.0  3200847.0  06MS  003200  3200.0  ARG0003   \n",
       "3   5218     32.0  ARG  3200001.0  3206105.0  06MS  003200  3200.0  ARG0003   \n",
       "4   5219     32.0  ARG  3200001.0  3202446.0  06MS  003200  3200.0  ARG0003   \n",
       "\n",
       "  SUBNATIO  ...    SENWT           VER_DAT      MATH      READ       SCI  \\\n",
       "0  0320000  ...  0.74958  15NOV16:10:17:00  306.8010  259.1677  299.7150   \n",
       "1  0320000  ...  0.74958  15NOV16:10:17:00  365.8349  368.9647  382.1997   \n",
       "2  0320000  ...  0.85682  15NOV16:10:17:00  277.4815  204.9901  209.5475   \n",
       "3  0320000  ...  0.85682  15NOV16:10:17:00  366.4782  366.7180  385.4713   \n",
       "4  0320000  ...  0.85682  15NOV16:10:17:00  375.1508  266.5500  376.9701   \n",
       "\n",
       "   Max_Score  Min_Score  score_total  score_range score_range2  \n",
       "0       MATH       READ        289.0            1            1  \n",
       "1        SCI       MATH        372.0            1            1  \n",
       "2       MATH       READ        231.0            1            1  \n",
       "3        SCI       MATH        373.0            1            1  \n",
       "4        SCI       READ        340.0            1            1  \n",
       "\n",
       "[5 rows x 930 columns]"
      ]
     },
     "execution_count": 283,
     "metadata": {},
     "output_type": "execute_result"
    }
   ],
   "source": [
    "stu = pickle.load(open('stu.p',\"rb\"))\n",
    "stu.head()"
   ]
  },
  {
   "cell_type": "code",
   "execution_count": null,
   "metadata": {},
   "outputs": [],
   "source": []
  },
  {
   "cell_type": "code",
   "execution_count": null,
   "metadata": {},
   "outputs": [],
   "source": []
  },
  {
   "cell_type": "code",
   "execution_count": 284,
   "metadata": {},
   "outputs": [
    {
     "name": "stdout",
     "output_type": "stream",
     "text": [
      "Estudiantes (23051, 930)\n"
     ]
    }
   ],
   "source": [
    "print(\"Estudiantes\", stu.shape)"
   ]
  },
  {
   "cell_type": "code",
   "execution_count": 285,
   "metadata": {},
   "outputs": [
    {
     "data": {
      "text/plain": [
       "MYS    8861\n",
       "KAZ    7841\n",
       "ARG    6349\n",
       "Name: CNT, dtype: int64"
      ]
     },
     "execution_count": 285,
     "metadata": {},
     "output_type": "execute_result"
    }
   ],
   "source": [
    "stu.CNT.value_counts()"
   ]
  },
  {
   "cell_type": "code",
   "execution_count": 286,
   "metadata": {},
   "outputs": [],
   "source": [
    "# Creo el promedio para los valores posibles de notas en matemática, lectura y ciencia"
   ]
  },
  {
   "cell_type": "code",
   "execution_count": 287,
   "metadata": {},
   "outputs": [
    {
     "data": {
      "text/html": [
       "<div>\n",
       "<style scoped>\n",
       "    .dataframe tbody tr th:only-of-type {\n",
       "        vertical-align: middle;\n",
       "    }\n",
       "\n",
       "    .dataframe tbody tr th {\n",
       "        vertical-align: top;\n",
       "    }\n",
       "\n",
       "    .dataframe thead th {\n",
       "        text-align: right;\n",
       "    }\n",
       "</style>\n",
       "<table border=\"1\" class=\"dataframe\">\n",
       "  <thead>\n",
       "    <tr style=\"text-align: right;\">\n",
       "      <th></th>\n",
       "      <th>MATH</th>\n",
       "      <th>READ</th>\n",
       "      <th>SCI</th>\n",
       "      <th>Max_Score</th>\n",
       "      <th>Min_Score</th>\n",
       "    </tr>\n",
       "  </thead>\n",
       "  <tbody>\n",
       "    <tr>\n",
       "      <th>21831</th>\n",
       "      <td>515.6234</td>\n",
       "      <td>470.2467</td>\n",
       "      <td>485.8994</td>\n",
       "      <td>MATH</td>\n",
       "      <td>READ</td>\n",
       "    </tr>\n",
       "    <tr>\n",
       "      <th>16290</th>\n",
       "      <td>500.6489</td>\n",
       "      <td>523.4650</td>\n",
       "      <td>523.5731</td>\n",
       "      <td>SCI</td>\n",
       "      <td>MATH</td>\n",
       "    </tr>\n",
       "    <tr>\n",
       "      <th>21683</th>\n",
       "      <td>452.5819</td>\n",
       "      <td>443.5931</td>\n",
       "      <td>463.9443</td>\n",
       "      <td>SCI</td>\n",
       "      <td>READ</td>\n",
       "    </tr>\n",
       "    <tr>\n",
       "      <th>8314</th>\n",
       "      <td>480.4372</td>\n",
       "      <td>427.3898</td>\n",
       "      <td>521.8006</td>\n",
       "      <td>SCI</td>\n",
       "      <td>READ</td>\n",
       "    </tr>\n",
       "    <tr>\n",
       "      <th>7023</th>\n",
       "      <td>350.9218</td>\n",
       "      <td>282.9915</td>\n",
       "      <td>336.5308</td>\n",
       "      <td>MATH</td>\n",
       "      <td>READ</td>\n",
       "    </tr>\n",
       "  </tbody>\n",
       "</table>\n",
       "</div>"
      ],
      "text/plain": [
       "           MATH      READ       SCI Max_Score Min_Score\n",
       "21831  515.6234  470.2467  485.8994      MATH      READ\n",
       "16290  500.6489  523.4650  523.5731       SCI      MATH\n",
       "21683  452.5819  443.5931  463.9443       SCI      READ\n",
       "8314   480.4372  427.3898  521.8006       SCI      READ\n",
       "7023   350.9218  282.9915  336.5308      MATH      READ"
      ]
     },
     "execution_count": 287,
     "metadata": {},
     "output_type": "execute_result"
    }
   ],
   "source": [
    "stu[\"MATH\"] = stu[[\"PV1MATH\", \"PV2MATH\", \"PV3MATH\", \"PV4MATH\", \"PV5MATH\", \"PV6MATH\", \"PV7MATH\", \"PV8MATH\", \"PV9MATH\", \"PV10MATH\"]].mean(axis=1)\n",
    "stu[\"READ\"] = stu[[\"PV1READ\", \"PV2READ\", \"PV3READ\", \"PV4READ\", \"PV5READ\", \"PV6READ\", \"PV7READ\", \"PV8READ\", \"PV9READ\", \"PV10READ\"]].mean(axis=1)\n",
    "stu[\"SCI\"] = stu[[\"PV1SCIE\", \"PV2SCIE\", \"PV3SCIE\", \"PV4SCIE\", \"PV5SCIE\", \"PV6SCIE\", \"PV7SCIE\", \"PV8SCIE\", \"PV9SCIE\", \"PV10SCIE\"]].mean(axis=1)\n",
    "# me quedo con los registros donde hay valores para las 3 asignaturas\n",
    "stu = stu.loc[stu[[\"MATH\", \"READ\", \"SCI\"]].isnull().sum(axis=1) != 3, :]\n",
    "stu.loc[:, [\"MATH\", \"READ\", \"SCI\"]].head()\n",
    "\n",
    "stu.loc[:, \"Max_Score\"] = stu.loc[:, [\"MATH\", \"READ\", \"SCI\"]].idxmax(axis=1) \n",
    "\n",
    "stu.loc[:, \"Min_Score\"] = stu.loc[:, [\"MATH\", \"READ\", \"SCI\"]].idxmin(axis=1) \n",
    "\n",
    "stu.loc[:,[\"MATH\", \"READ\", \"SCI\", \"Max_Score\", \"Min_Score\"]].sample(5)\n"
   ]
  },
  {
   "cell_type": "code",
   "execution_count": null,
   "metadata": {},
   "outputs": [],
   "source": []
  },
  {
   "cell_type": "code",
   "execution_count": 288,
   "metadata": {},
   "outputs": [
    {
     "data": {
      "text/html": [
       "<div>\n",
       "<style scoped>\n",
       "    .dataframe tbody tr th:only-of-type {\n",
       "        vertical-align: middle;\n",
       "    }\n",
       "\n",
       "    .dataframe tbody tr th {\n",
       "        vertical-align: top;\n",
       "    }\n",
       "\n",
       "    .dataframe thead th {\n",
       "        text-align: right;\n",
       "    }\n",
       "</style>\n",
       "<table border=\"1\" class=\"dataframe\">\n",
       "  <thead>\n",
       "    <tr style=\"text-align: right;\">\n",
       "      <th></th>\n",
       "      <th>CNTRYID</th>\n",
       "      <th>CNT</th>\n",
       "      <th>CNTSCHID</th>\n",
       "      <th>CNTSTUID</th>\n",
       "      <th>CYC</th>\n",
       "      <th>NatCen</th>\n",
       "      <th>Region</th>\n",
       "      <th>STRATUM</th>\n",
       "      <th>SUBNATIO</th>\n",
       "      <th>OECD</th>\n",
       "      <th>...</th>\n",
       "      <th>PV3SSES</th>\n",
       "      <th>PV4SSES</th>\n",
       "      <th>PV5SSES</th>\n",
       "      <th>PV6SSES</th>\n",
       "      <th>PV7SSES</th>\n",
       "      <th>PV8SSES</th>\n",
       "      <th>PV9SSES</th>\n",
       "      <th>PV10SSES</th>\n",
       "      <th>SENWT</th>\n",
       "      <th>VER_DAT</th>\n",
       "    </tr>\n",
       "  </thead>\n",
       "  <tbody>\n",
       "    <tr>\n",
       "      <th>41922</th>\n",
       "      <td>76.0</td>\n",
       "      <td>BRA</td>\n",
       "      <td>7600001.0</td>\n",
       "      <td>7628061.0</td>\n",
       "      <td>06MS</td>\n",
       "      <td>007600</td>\n",
       "      <td>7600.0</td>\n",
       "      <td>BRA2549</td>\n",
       "      <td>0760000</td>\n",
       "      <td>0.0</td>\n",
       "      <td>...</td>\n",
       "      <td>292.441</td>\n",
       "      <td>265.223</td>\n",
       "      <td>349.694</td>\n",
       "      <td>359.034</td>\n",
       "      <td>333.992</td>\n",
       "      <td>323.978</td>\n",
       "      <td>355.030</td>\n",
       "      <td>290.974</td>\n",
       "      <td>0.50861</td>\n",
       "      <td>14NOV16:20:25:00</td>\n",
       "    </tr>\n",
       "    <tr>\n",
       "      <th>41923</th>\n",
       "      <td>76.0</td>\n",
       "      <td>BRA</td>\n",
       "      <td>7600001.0</td>\n",
       "      <td>7611939.0</td>\n",
       "      <td>06MS</td>\n",
       "      <td>007600</td>\n",
       "      <td>7600.0</td>\n",
       "      <td>BRA2549</td>\n",
       "      <td>0760000</td>\n",
       "      <td>0.0</td>\n",
       "      <td>...</td>\n",
       "      <td>263.857</td>\n",
       "      <td>333.110</td>\n",
       "      <td>289.815</td>\n",
       "      <td>275.886</td>\n",
       "      <td>308.443</td>\n",
       "      <td>334.062</td>\n",
       "      <td>347.188</td>\n",
       "      <td>356.220</td>\n",
       "      <td>0.50861</td>\n",
       "      <td>14NOV16:20:25:00</td>\n",
       "    </tr>\n",
       "    <tr>\n",
       "      <th>41924</th>\n",
       "      <td>76.0</td>\n",
       "      <td>BRA</td>\n",
       "      <td>7600001.0</td>\n",
       "      <td>7600555.0</td>\n",
       "      <td>06MS</td>\n",
       "      <td>007600</td>\n",
       "      <td>7600.0</td>\n",
       "      <td>BRA2549</td>\n",
       "      <td>0760000</td>\n",
       "      <td>0.0</td>\n",
       "      <td>...</td>\n",
       "      <td>271.911</td>\n",
       "      <td>302.190</td>\n",
       "      <td>230.035</td>\n",
       "      <td>224.453</td>\n",
       "      <td>368.723</td>\n",
       "      <td>241.524</td>\n",
       "      <td>330.580</td>\n",
       "      <td>240.854</td>\n",
       "      <td>0.43085</td>\n",
       "      <td>14NOV16:20:25:00</td>\n",
       "    </tr>\n",
       "    <tr>\n",
       "      <th>41925</th>\n",
       "      <td>76.0</td>\n",
       "      <td>BRA</td>\n",
       "      <td>7600001.0</td>\n",
       "      <td>7629227.0</td>\n",
       "      <td>06MS</td>\n",
       "      <td>007600</td>\n",
       "      <td>7600.0</td>\n",
       "      <td>BRA2549</td>\n",
       "      <td>0760000</td>\n",
       "      <td>0.0</td>\n",
       "      <td>...</td>\n",
       "      <td>324.209</td>\n",
       "      <td>308.340</td>\n",
       "      <td>305.776</td>\n",
       "      <td>321.851</td>\n",
       "      <td>259.394</td>\n",
       "      <td>320.636</td>\n",
       "      <td>349.514</td>\n",
       "      <td>306.663</td>\n",
       "      <td>0.43085</td>\n",
       "      <td>14NOV16:20:25:00</td>\n",
       "    </tr>\n",
       "    <tr>\n",
       "      <th>41926</th>\n",
       "      <td>76.0</td>\n",
       "      <td>BRA</td>\n",
       "      <td>7600001.0</td>\n",
       "      <td>7621770.0</td>\n",
       "      <td>06MS</td>\n",
       "      <td>007600</td>\n",
       "      <td>7600.0</td>\n",
       "      <td>BRA2549</td>\n",
       "      <td>0760000</td>\n",
       "      <td>0.0</td>\n",
       "      <td>...</td>\n",
       "      <td>328.754</td>\n",
       "      <td>233.642</td>\n",
       "      <td>375.885</td>\n",
       "      <td>254.953</td>\n",
       "      <td>396.913</td>\n",
       "      <td>425.482</td>\n",
       "      <td>356.967</td>\n",
       "      <td>308.303</td>\n",
       "      <td>0.43085</td>\n",
       "      <td>14NOV16:20:25:00</td>\n",
       "    </tr>\n",
       "  </tbody>\n",
       "</table>\n",
       "<p>5 rows × 921 columns</p>\n",
       "</div>"
      ],
      "text/plain": [
       "       CNTRYID  CNT   CNTSCHID   CNTSTUID   CYC  NatCen  Region  STRATUM  \\\n",
       "41922     76.0  BRA  7600001.0  7628061.0  06MS  007600  7600.0  BRA2549   \n",
       "41923     76.0  BRA  7600001.0  7611939.0  06MS  007600  7600.0  BRA2549   \n",
       "41924     76.0  BRA  7600001.0  7600555.0  06MS  007600  7600.0  BRA2549   \n",
       "41925     76.0  BRA  7600001.0  7629227.0  06MS  007600  7600.0  BRA2549   \n",
       "41926     76.0  BRA  7600001.0  7621770.0  06MS  007600  7600.0  BRA2549   \n",
       "\n",
       "      SUBNATIO  OECD  ...  PV3SSES  PV4SSES  PV5SSES  PV6SSES  PV7SSES  \\\n",
       "41922  0760000   0.0  ...  292.441  265.223  349.694  359.034  333.992   \n",
       "41923  0760000   0.0  ...  263.857  333.110  289.815  275.886  308.443   \n",
       "41924  0760000   0.0  ...  271.911  302.190  230.035  224.453  368.723   \n",
       "41925  0760000   0.0  ...  324.209  308.340  305.776  321.851  259.394   \n",
       "41926  0760000   0.0  ...  328.754  233.642  375.885  254.953  396.913   \n",
       "\n",
       "       PV8SSES  PV9SSES  PV10SSES    SENWT           VER_DAT  \n",
       "41922  323.978  355.030   290.974  0.50861  14NOV16:20:25:00  \n",
       "41923  334.062  347.188   356.220  0.50861  14NOV16:20:25:00  \n",
       "41924  241.524  330.580   240.854  0.43085  14NOV16:20:25:00  \n",
       "41925  320.636  349.514   306.663  0.43085  14NOV16:20:25:00  \n",
       "41926  425.482  356.967   308.303  0.43085  14NOV16:20:25:00  \n",
       "\n",
       "[5 rows x 921 columns]"
      ]
     },
     "execution_count": 288,
     "metadata": {},
     "output_type": "execute_result"
    }
   ],
   "source": [
    "stu2 = pickle.load(open('stu_sample.p',\"rb\"))\n",
    "stu2.head()"
   ]
  },
  {
   "cell_type": "code",
   "execution_count": 289,
   "metadata": {},
   "outputs": [
    {
     "data": {
      "text/html": [
       "<div>\n",
       "<style scoped>\n",
       "    .dataframe tbody tr th:only-of-type {\n",
       "        vertical-align: middle;\n",
       "    }\n",
       "\n",
       "    .dataframe tbody tr th {\n",
       "        vertical-align: top;\n",
       "    }\n",
       "\n",
       "    .dataframe thead th {\n",
       "        text-align: right;\n",
       "    }\n",
       "</style>\n",
       "<table border=\"1\" class=\"dataframe\">\n",
       "  <thead>\n",
       "    <tr style=\"text-align: right;\">\n",
       "      <th></th>\n",
       "      <th>MATH</th>\n",
       "      <th>READ</th>\n",
       "      <th>SCI</th>\n",
       "      <th>Max_Score</th>\n",
       "      <th>Min_Score</th>\n",
       "    </tr>\n",
       "  </thead>\n",
       "  <tbody>\n",
       "    <tr>\n",
       "      <th>463002</th>\n",
       "      <td>545.0995</td>\n",
       "      <td>532.7516</td>\n",
       "      <td>560.1616</td>\n",
       "      <td>SCI</td>\n",
       "      <td>READ</td>\n",
       "    </tr>\n",
       "    <tr>\n",
       "      <th>61924</th>\n",
       "      <td>364.0623</td>\n",
       "      <td>420.4865</td>\n",
       "      <td>422.4227</td>\n",
       "      <td>SCI</td>\n",
       "      <td>MATH</td>\n",
       "    </tr>\n",
       "    <tr>\n",
       "      <th>116825</th>\n",
       "      <td>475.5928</td>\n",
       "      <td>502.0062</td>\n",
       "      <td>534.4622</td>\n",
       "      <td>SCI</td>\n",
       "      <td>MATH</td>\n",
       "    </tr>\n",
       "    <tr>\n",
       "      <th>465454</th>\n",
       "      <td>477.0238</td>\n",
       "      <td>477.1562</td>\n",
       "      <td>499.7546</td>\n",
       "      <td>SCI</td>\n",
       "      <td>MATH</td>\n",
       "    </tr>\n",
       "    <tr>\n",
       "      <th>286730</th>\n",
       "      <td>395.0657</td>\n",
       "      <td>446.6246</td>\n",
       "      <td>415.9962</td>\n",
       "      <td>READ</td>\n",
       "      <td>MATH</td>\n",
       "    </tr>\n",
       "  </tbody>\n",
       "</table>\n",
       "</div>"
      ],
      "text/plain": [
       "            MATH      READ       SCI Max_Score Min_Score\n",
       "463002  545.0995  532.7516  560.1616       SCI      READ\n",
       "61924   364.0623  420.4865  422.4227       SCI      MATH\n",
       "116825  475.5928  502.0062  534.4622       SCI      MATH\n",
       "465454  477.0238  477.1562  499.7546       SCI      MATH\n",
       "286730  395.0657  446.6246  415.9962      READ      MATH"
      ]
     },
     "execution_count": 289,
     "metadata": {},
     "output_type": "execute_result"
    }
   ],
   "source": [
    "stu2[\"MATH\"] = stu2[[\"PV1MATH\", \"PV2MATH\", \"PV3MATH\", \"PV4MATH\", \"PV5MATH\", \"PV6MATH\", \"PV7MATH\", \"PV8MATH\", \"PV9MATH\", \"PV10MATH\"]].mean(axis=1)\n",
    "stu2[\"READ\"] = stu2[[\"PV1READ\", \"PV2READ\", \"PV3READ\", \"PV4READ\", \"PV5READ\", \"PV6READ\", \"PV7READ\", \"PV8READ\", \"PV9READ\", \"PV10READ\"]].mean(axis=1)\n",
    "stu2[\"SCI\"] = stu2[[\"PV1SCIE\", \"PV2SCIE\", \"PV3SCIE\", \"PV4SCIE\", \"PV5SCIE\", \"PV6SCIE\", \"PV7SCIE\", \"PV8SCIE\", \"PV9SCIE\", \"PV10SCIE\"]].mean(axis=1)\n",
    "# me quedo con los registros donde hay valores para las 3 asignaturas\n",
    "stu2 = stu2.loc[stu2[[\"MATH\", \"READ\", \"SCI\"]].isnull().sum(axis=1) != 3, :]\n",
    "stu2.loc[:, [\"MATH\", \"READ\", \"SCI\"]].head()\n",
    "\n",
    "stu2.loc[:, \"Max_Score\"] = stu2.loc[:, [\"MATH\", \"READ\", \"SCI\"]].idxmax(axis=1) \n",
    "\n",
    "stu2.loc[:, \"Min_Score\"] = stu2.loc[:, [\"MATH\", \"READ\", \"SCI\"]].idxmin(axis=1) \n",
    "\n",
    "stu2.loc[:,[\"MATH\", \"READ\", \"SCI\", \"Max_Score\", \"Min_Score\"]].sample(5)"
   ]
  },
  {
   "cell_type": "code",
   "execution_count": 290,
   "metadata": {},
   "outputs": [
    {
     "name": "stderr",
     "output_type": "stream",
     "text": [
      "C:\\Users\\sanap\\Anaconda3\\lib\\site-packages\\ipykernel_launcher.py:1: FutureWarning: Sorting because non-concatenation axis is not aligned. A future version\n",
      "of pandas will change to not sort by default.\n",
      "\n",
      "To accept the future behavior, pass 'sort=False'.\n",
      "\n",
      "To retain the current behavior and silence the warning, pass 'sort=True'.\n",
      "\n",
      "  \"\"\"Entry point for launching an IPython kernel.\n"
     ]
    }
   ],
   "source": [
    "stu = pd.concat([stu, stu2], ignore_index=True)"
   ]
  },
  {
   "cell_type": "code",
   "execution_count": 291,
   "metadata": {},
   "outputs": [
    {
     "data": {
      "text/plain": [
       "(98378, 930)"
      ]
     },
     "execution_count": 291,
     "metadata": {},
     "output_type": "execute_result"
    }
   ],
   "source": [
    "stu.shape"
   ]
  },
  {
   "cell_type": "code",
   "execution_count": 292,
   "metadata": {},
   "outputs": [],
   "source": [
    "stu = stu[[\n",
    "'CNT',   \n",
    " 'DISCLISCI',\n",
    " 'TEACHSUP',\n",
    " 'IBTEACH',\n",
    " 'TDTEACH',\n",
    " 'ENVAWARE',\n",
    " 'ENVOPT',\n",
    " 'JOYSCIE',\n",
    " 'INTBRSCI',\n",
    " 'INSTSCIE',\n",
    " 'SCIEEFF',\n",
    " 'EPIST',\n",
    " 'SCIEACT',\n",
    " 'hisei',\n",
    " 'OUTHOURS',\n",
    " 'MMINS',\n",
    " 'LMINS',\n",
    " 'SMINS',\n",
    " 'TMINS',\n",
    " 'BELONG',\n",
    " 'ANXTEST',\n",
    " 'MOTIVAT',\n",
    " 'COOPERATE',\n",
    " 'CPSVALUE',\n",
    " 'EMOSUPS',\n",
    " 'PERFEED',\n",
    " 'ADINST',\n",
    " 'unfairteacher',\n",
    " 'PARED',\n",
    " 'CULTPOSS',\n",
    " 'HEDRES',\n",
    " 'HOMEPOS',\n",
    " 'ICTRES',\n",
    " 'WEALTH',\n",
    " 'ESCS', \n",
    " 'Region',\n",
    " 'IMMIG',\n",
    " 'MISCED',\n",
    " 'FISCED',\n",
    " 'HISCED',\n",
    " 'REPEAT',\n",
    " 'DURECEC',\n",
    "  'COBN_F',\n",
    "  'COBN_M',\n",
    "  'COBN_S',\n",
    "'ST022Q01TA', 'MATH', 'READ', 'SCI', 'Max_Score', 'Min_Score', 'SENWT', 'W_FSTUWT']]"
   ]
  },
  {
   "cell_type": "code",
   "execution_count": 293,
   "metadata": {},
   "outputs": [
    {
     "name": "stdout",
     "output_type": "stream",
     "text": [
      "1    46855\n",
      "2    35936\n",
      "3    14212\n",
      "4     1375\n",
      "Name: score_range, dtype: int64\n",
      "1    51523\n",
      "0    46855\n",
      "Name: score_range2, dtype: int64\n"
     ]
    }
   ],
   "source": [
    "# Calculamos la variable a clasificar de los promedios de cada área, usando los criterios de PISA\n",
    "stu[\"score_total\"] = round(stu[[\"MATH\", \"READ\", \"SCI\"]].mean(axis=1))\n",
    "stu[\"score_range\"] = 1\n",
    "stu.loc[(stu.score_total >= 340)&(stu.score_total < 440), \"score_range\"]=1\n",
    "stu.loc[(stu.score_total >= 440)&(stu.score_total < 540), \"score_range\"]=2\n",
    "stu.loc[(stu.score_total >= 540)&(stu.score_total < 640), \"score_range\"]=3\n",
    "stu.loc[stu.score_total >= 640, \"score_range\"]=4\n",
    "\n",
    "stu[\"score_range2\"] = 9999\n",
    "stu.loc[(stu.score_range == 1),\"score_range2\"] = 0\n",
    "stu.loc[(stu.score_range == 2)|(stu.score_range == 3)|(stu.score_range == 4),\"score_range2\"] = 1\n",
    "\n",
    "print(stu.score_range.value_counts())\n",
    "print(stu.score_range2.value_counts()) #Observamos si nuestras clases están bien balanceadas\n"
   ]
  },
  {
   "cell_type": "code",
   "execution_count": 294,
   "metadata": {},
   "outputs": [
    {
     "data": {
      "text/plain": [
       "(98378, 56)"
      ]
     },
     "execution_count": 294,
     "metadata": {},
     "output_type": "execute_result"
    }
   ],
   "source": [
    "stu.shape"
   ]
  },
  {
   "cell_type": "code",
   "execution_count": 295,
   "metadata": {},
   "outputs": [],
   "source": [
    "pickle.dump(stu,open('stu_all.p', \"wb\"))"
   ]
  },
  {
   "cell_type": "code",
   "execution_count": 296,
   "metadata": {},
   "outputs": [
    {
     "data": {
      "text/plain": [
       "array(['ARG', 'KAZ', 'MYS', 'BRA', 'CAN', 'CHL', 'COL', 'MEX', 'USA'],\n",
       "      dtype=object)"
      ]
     },
     "execution_count": 296,
     "metadata": {},
     "output_type": "execute_result"
    }
   ],
   "source": [
    "stu.CNT.unique()"
   ]
  },
  {
   "cell_type": "code",
   "execution_count": 297,
   "metadata": {},
   "outputs": [
    {
     "data": {
      "text/plain": [
       "array([0, 1], dtype=int64)"
      ]
     },
     "execution_count": 297,
     "metadata": {},
     "output_type": "execute_result"
    }
   ],
   "source": [
    "stu.score_range2.unique()"
   ]
  },
  {
   "cell_type": "code",
   "execution_count": null,
   "metadata": {},
   "outputs": [],
   "source": []
  },
  {
   "cell_type": "markdown",
   "metadata": {},
   "source": [
    "# Levanto dataset de estudiantes"
   ]
  },
  {
   "cell_type": "code",
   "execution_count": 244,
   "metadata": {},
   "outputs": [],
   "source": [
    "stu = pickle.load(open('stu_all.p',\"rb\"))\n"
   ]
  },
  {
   "cell_type": "code",
   "execution_count": 246,
   "metadata": {},
   "outputs": [],
   "source": [
    "weight = stu.W_FSTUWT"
   ]
  },
  {
   "cell_type": "code",
   "execution_count": 247,
   "metadata": {},
   "outputs": [
    {
     "data": {
      "text/html": [
       "<div>\n",
       "<style scoped>\n",
       "    .dataframe tbody tr th:only-of-type {\n",
       "        vertical-align: middle;\n",
       "    }\n",
       "\n",
       "    .dataframe tbody tr th {\n",
       "        vertical-align: top;\n",
       "    }\n",
       "\n",
       "    .dataframe thead th {\n",
       "        text-align: right;\n",
       "    }\n",
       "</style>\n",
       "<table border=\"1\" class=\"dataframe\">\n",
       "  <thead>\n",
       "    <tr style=\"text-align: right;\">\n",
       "      <th></th>\n",
       "      <th>DISCLISCI</th>\n",
       "      <th>TEACHSUP</th>\n",
       "      <th>IBTEACH</th>\n",
       "      <th>TDTEACH</th>\n",
       "      <th>ENVAWARE</th>\n",
       "      <th>ENVOPT</th>\n",
       "      <th>JOYSCIE</th>\n",
       "      <th>INTBRSCI</th>\n",
       "      <th>INSTSCIE</th>\n",
       "      <th>SCIEEFF</th>\n",
       "      <th>...</th>\n",
       "      <th>PERFEED</th>\n",
       "      <th>ADINST</th>\n",
       "      <th>unfairteacher</th>\n",
       "      <th>PARED</th>\n",
       "      <th>CULTPOSS</th>\n",
       "      <th>HEDRES</th>\n",
       "      <th>HOMEPOS</th>\n",
       "      <th>ICTRES</th>\n",
       "      <th>WEALTH</th>\n",
       "      <th>ESCS</th>\n",
       "    </tr>\n",
       "  </thead>\n",
       "  <tbody>\n",
       "    <tr>\n",
       "      <th>39576</th>\n",
       "      <td>-1.6054</td>\n",
       "      <td>1.4475</td>\n",
       "      <td>0.3996</td>\n",
       "      <td>2.0781</td>\n",
       "      <td>-3.3765</td>\n",
       "      <td>3.0127</td>\n",
       "      <td>0.0875</td>\n",
       "      <td>0.0764</td>\n",
       "      <td>NaN</td>\n",
       "      <td>NaN</td>\n",
       "      <td>...</td>\n",
       "      <td>1.3685</td>\n",
       "      <td>-0.3816</td>\n",
       "      <td>12.0</td>\n",
       "      <td>12.0</td>\n",
       "      <td>-0.6174</td>\n",
       "      <td>-0.1108</td>\n",
       "      <td>-0.9647</td>\n",
       "      <td>-0.8890</td>\n",
       "      <td>-0.9520</td>\n",
       "      <td>-1.0446</td>\n",
       "    </tr>\n",
       "    <tr>\n",
       "      <th>91726</th>\n",
       "      <td>0.3993</td>\n",
       "      <td>1.4475</td>\n",
       "      <td>3.1829</td>\n",
       "      <td>2.0781</td>\n",
       "      <td>0.8948</td>\n",
       "      <td>0.4639</td>\n",
       "      <td>0.5094</td>\n",
       "      <td>-0.1643</td>\n",
       "      <td>0.3708</td>\n",
       "      <td>0.7788</td>\n",
       "      <td>...</td>\n",
       "      <td>1.0606</td>\n",
       "      <td>2.0469</td>\n",
       "      <td>6.0</td>\n",
       "      <td>14.0</td>\n",
       "      <td>0.6062</td>\n",
       "      <td>1.1563</td>\n",
       "      <td>-0.5176</td>\n",
       "      <td>-0.5600</td>\n",
       "      <td>-1.0137</td>\n",
       "      <td>0.0454</td>\n",
       "    </tr>\n",
       "    <tr>\n",
       "      <th>28270</th>\n",
       "      <td>NaN</td>\n",
       "      <td>NaN</td>\n",
       "      <td>NaN</td>\n",
       "      <td>NaN</td>\n",
       "      <td>NaN</td>\n",
       "      <td>NaN</td>\n",
       "      <td>NaN</td>\n",
       "      <td>NaN</td>\n",
       "      <td>NaN</td>\n",
       "      <td>NaN</td>\n",
       "      <td>...</td>\n",
       "      <td>NaN</td>\n",
       "      <td>NaN</td>\n",
       "      <td>9.0</td>\n",
       "      <td>9.0</td>\n",
       "      <td>0.3670</td>\n",
       "      <td>1.1563</td>\n",
       "      <td>-1.0044</td>\n",
       "      <td>-1.1173</td>\n",
       "      <td>-1.5572</td>\n",
       "      <td>-1.5076</td>\n",
       "    </tr>\n",
       "  </tbody>\n",
       "</table>\n",
       "<p>3 rows × 34 columns</p>\n",
       "</div>"
      ],
      "text/plain": [
       "       DISCLISCI  TEACHSUP  IBTEACH  TDTEACH  ENVAWARE  ENVOPT  JOYSCIE  \\\n",
       "39576    -1.6054    1.4475   0.3996   2.0781   -3.3765  3.0127   0.0875   \n",
       "91726     0.3993    1.4475   3.1829   2.0781    0.8948  0.4639   0.5094   \n",
       "28270        NaN       NaN      NaN      NaN       NaN     NaN      NaN   \n",
       "\n",
       "       INTBRSCI  INSTSCIE  SCIEEFF  ...  PERFEED  ADINST  unfairteacher  \\\n",
       "39576    0.0764       NaN      NaN  ...   1.3685 -0.3816           12.0   \n",
       "91726   -0.1643    0.3708   0.7788  ...   1.0606  2.0469            6.0   \n",
       "28270       NaN       NaN      NaN  ...      NaN     NaN            9.0   \n",
       "\n",
       "       PARED  CULTPOSS  HEDRES  HOMEPOS  ICTRES  WEALTH    ESCS  \n",
       "39576   12.0   -0.6174 -0.1108  -0.9647 -0.8890 -0.9520 -1.0446  \n",
       "91726   14.0    0.6062  1.1563  -0.5176 -0.5600 -1.0137  0.0454  \n",
       "28270    9.0    0.3670  1.1563  -1.0044 -1.1173 -1.5572 -1.5076  \n",
       "\n",
       "[3 rows x 34 columns]"
      ]
     },
     "execution_count": 247,
     "metadata": {},
     "output_type": "execute_result"
    }
   ],
   "source": [
    "X_numericas = stu[[\n",
    " 'DISCLISCI',\n",
    " 'TEACHSUP',\n",
    " 'IBTEACH',\n",
    " 'TDTEACH',\n",
    " 'ENVAWARE',\n",
    " 'ENVOPT',\n",
    " 'JOYSCIE',\n",
    " 'INTBRSCI',\n",
    " 'INSTSCIE',\n",
    " 'SCIEEFF',\n",
    " 'EPIST',\n",
    " 'SCIEACT',\n",
    " 'hisei',\n",
    " 'OUTHOURS',\n",
    " 'MMINS',\n",
    " 'LMINS',\n",
    " 'SMINS',\n",
    " 'TMINS',\n",
    " 'BELONG',\n",
    " 'ANXTEST',\n",
    " 'MOTIVAT',\n",
    " 'COOPERATE',\n",
    " 'CPSVALUE',\n",
    " 'EMOSUPS',\n",
    " 'PERFEED',\n",
    " 'ADINST',\n",
    " 'unfairteacher',\n",
    " 'PARED',\n",
    " 'CULTPOSS',\n",
    " 'HEDRES',\n",
    " 'HOMEPOS',\n",
    " 'ICTRES',\n",
    " 'WEALTH',\n",
    " 'ESCS',]]\n",
    "\n",
    "X_numericas.sample(3)"
   ]
  },
  {
   "cell_type": "markdown",
   "metadata": {},
   "source": [
    "## Creación de Dummies para X"
   ]
  },
  {
   "cell_type": "code",
   "execution_count": 248,
   "metadata": {},
   "outputs": [
    {
     "data": {
      "text/html": [
       "<div>\n",
       "<style scoped>\n",
       "    .dataframe tbody tr th:only-of-type {\n",
       "        vertical-align: middle;\n",
       "    }\n",
       "\n",
       "    .dataframe tbody tr th {\n",
       "        vertical-align: top;\n",
       "    }\n",
       "\n",
       "    .dataframe thead th {\n",
       "        text-align: right;\n",
       "    }\n",
       "</style>\n",
       "<table border=\"1\" class=\"dataframe\">\n",
       "  <thead>\n",
       "    <tr style=\"text-align: right;\">\n",
       "      <th></th>\n",
       "      <th>Region</th>\n",
       "      <th>IMMIG</th>\n",
       "      <th>MISCED</th>\n",
       "      <th>FISCED</th>\n",
       "      <th>HISCED</th>\n",
       "      <th>REPEAT</th>\n",
       "      <th>DURECEC</th>\n",
       "      <th>COBN_F</th>\n",
       "      <th>COBN_M</th>\n",
       "      <th>COBN_S</th>\n",
       "      <th>ST022Q01TA</th>\n",
       "    </tr>\n",
       "  </thead>\n",
       "  <tbody>\n",
       "    <tr>\n",
       "      <th>22793</th>\n",
       "      <td>45800.0</td>\n",
       "      <td>NaN</td>\n",
       "      <td>NaN</td>\n",
       "      <td>NaN</td>\n",
       "      <td>NaN</td>\n",
       "      <td>NaN</td>\n",
       "      <td>NaN</td>\n",
       "      <td></td>\n",
       "      <td></td>\n",
       "      <td></td>\n",
       "      <td>NaN</td>\n",
       "    </tr>\n",
       "    <tr>\n",
       "      <th>864</th>\n",
       "      <td>3200.0</td>\n",
       "      <td>1.0</td>\n",
       "      <td>5.0</td>\n",
       "      <td>5.0</td>\n",
       "      <td>5.0</td>\n",
       "      <td>0.0</td>\n",
       "      <td>NaN</td>\n",
       "      <td>003200</td>\n",
       "      <td>003200</td>\n",
       "      <td>003200</td>\n",
       "      <td>1.0</td>\n",
       "    </tr>\n",
       "    <tr>\n",
       "      <th>4279</th>\n",
       "      <td>3200.0</td>\n",
       "      <td>1.0</td>\n",
       "      <td>4.0</td>\n",
       "      <td>4.0</td>\n",
       "      <td>4.0</td>\n",
       "      <td>1.0</td>\n",
       "      <td>NaN</td>\n",
       "      <td>003200</td>\n",
       "      <td>003200</td>\n",
       "      <td>003200</td>\n",
       "      <td>1.0</td>\n",
       "    </tr>\n",
       "  </tbody>\n",
       "</table>\n",
       "</div>"
      ],
      "text/plain": [
       "        Region  IMMIG  MISCED  FISCED  HISCED  REPEAT  DURECEC  COBN_F  \\\n",
       "22793  45800.0    NaN     NaN     NaN     NaN     NaN      NaN           \n",
       "864     3200.0    1.0     5.0     5.0     5.0     0.0      NaN  003200   \n",
       "4279    3200.0    1.0     4.0     4.0     4.0     1.0      NaN  003200   \n",
       "\n",
       "       COBN_M  COBN_S  ST022Q01TA  \n",
       "22793                         NaN  \n",
       "864    003200  003200         1.0  \n",
       "4279   003200  003200         1.0  "
      ]
     },
     "execution_count": 248,
     "metadata": {},
     "output_type": "execute_result"
    }
   ],
   "source": [
    "X_dummies = stu[[\n",
    "  'Region',\n",
    " 'IMMIG',\n",
    " 'MISCED',\n",
    " 'FISCED',\n",
    " 'HISCED',\n",
    " 'REPEAT',\n",
    " 'DURECEC',\n",
    "  'COBN_F',\n",
    "  'COBN_M',\n",
    "  'COBN_S',\n",
    "'ST022Q01TA',\n",
    "]]\n",
    "\n",
    "X_dummies.sample(3)"
   ]
  },
  {
   "cell_type": "code",
   "execution_count": 249,
   "metadata": {},
   "outputs": [],
   "source": [
    "dummies_resul = []\n",
    "for x in X_dummies.columns:\n",
    "    \n",
    "    dummies = pd.get_dummies(X_dummies[x], prefix=x+\"_\", drop_first=True)\n",
    "    \n",
    "    if len(dummies_resul)==0:\n",
    "        dummies_resul = dummies.copy()\n",
    "    else:\n",
    "        dummies_resul = pd.concat([dummies_resul, dummies], axis=1)\n",
    "    "
   ]
  },
  {
   "cell_type": "code",
   "execution_count": 250,
   "metadata": {},
   "outputs": [],
   "source": [
    "X = pd.concat([X_numericas, dummies_resul], axis=1)"
   ]
  },
  {
   "cell_type": "code",
   "execution_count": 251,
   "metadata": {},
   "outputs": [
    {
     "data": {
      "text/html": [
       "<div>\n",
       "<style scoped>\n",
       "    .dataframe tbody tr th:only-of-type {\n",
       "        vertical-align: middle;\n",
       "    }\n",
       "\n",
       "    .dataframe tbody tr th {\n",
       "        vertical-align: top;\n",
       "    }\n",
       "\n",
       "    .dataframe thead th {\n",
       "        text-align: right;\n",
       "    }\n",
       "</style>\n",
       "<table border=\"1\" class=\"dataframe\">\n",
       "  <thead>\n",
       "    <tr style=\"text-align: right;\">\n",
       "      <th></th>\n",
       "      <th>DISCLISCI</th>\n",
       "      <th>TEACHSUP</th>\n",
       "      <th>IBTEACH</th>\n",
       "      <th>TDTEACH</th>\n",
       "      <th>ENVAWARE</th>\n",
       "      <th>ENVOPT</th>\n",
       "      <th>JOYSCIE</th>\n",
       "      <th>INTBRSCI</th>\n",
       "      <th>INSTSCIE</th>\n",
       "      <th>SCIEEFF</th>\n",
       "      <th>...</th>\n",
       "      <th>COBN_S__181004</th>\n",
       "      <th>COBN_S__903200</th>\n",
       "      <th>COBN_S__907600</th>\n",
       "      <th>COBN_S__915200</th>\n",
       "      <th>COBN_S__917000</th>\n",
       "      <th>COBN_S__939800</th>\n",
       "      <th>COBN_S__945800</th>\n",
       "      <th>COBN_S__948400</th>\n",
       "      <th>COBN_S__984000</th>\n",
       "      <th>ST022Q01TA__2.0</th>\n",
       "    </tr>\n",
       "  </thead>\n",
       "  <tbody>\n",
       "    <tr>\n",
       "      <th>55044</th>\n",
       "      <td>-0.0405</td>\n",
       "      <td>-0.1164</td>\n",
       "      <td>-0.0890</td>\n",
       "      <td>-0.6102</td>\n",
       "      <td>-0.0081</td>\n",
       "      <td>-1.0294</td>\n",
       "      <td>-0.2145</td>\n",
       "      <td>-1.4829</td>\n",
       "      <td>-0.5375</td>\n",
       "      <td>0.0900</td>\n",
       "      <td>...</td>\n",
       "      <td>0</td>\n",
       "      <td>0</td>\n",
       "      <td>0</td>\n",
       "      <td>0</td>\n",
       "      <td>0</td>\n",
       "      <td>0</td>\n",
       "      <td>0</td>\n",
       "      <td>0</td>\n",
       "      <td>0</td>\n",
       "      <td>0</td>\n",
       "    </tr>\n",
       "    <tr>\n",
       "      <th>58204</th>\n",
       "      <td>-0.3164</td>\n",
       "      <td>0.3574</td>\n",
       "      <td>0.9452</td>\n",
       "      <td>-0.6102</td>\n",
       "      <td>0.5925</td>\n",
       "      <td>-1.0294</td>\n",
       "      <td>-1.4311</td>\n",
       "      <td>-0.7446</td>\n",
       "      <td>-1.9301</td>\n",
       "      <td>-0.5508</td>\n",
       "      <td>...</td>\n",
       "      <td>0</td>\n",
       "      <td>0</td>\n",
       "      <td>0</td>\n",
       "      <td>0</td>\n",
       "      <td>0</td>\n",
       "      <td>0</td>\n",
       "      <td>0</td>\n",
       "      <td>0</td>\n",
       "      <td>0</td>\n",
       "      <td>1</td>\n",
       "    </tr>\n",
       "    <tr>\n",
       "      <th>97158</th>\n",
       "      <td>0.0039</td>\n",
       "      <td>-0.1164</td>\n",
       "      <td>0.4311</td>\n",
       "      <td>0.4505</td>\n",
       "      <td>-0.1824</td>\n",
       "      <td>3.0127</td>\n",
       "      <td>0.5094</td>\n",
       "      <td>0.3721</td>\n",
       "      <td>0.3708</td>\n",
       "      <td>0.5037</td>\n",
       "      <td>...</td>\n",
       "      <td>0</td>\n",
       "      <td>0</td>\n",
       "      <td>0</td>\n",
       "      <td>0</td>\n",
       "      <td>0</td>\n",
       "      <td>0</td>\n",
       "      <td>0</td>\n",
       "      <td>0</td>\n",
       "      <td>0</td>\n",
       "      <td>0</td>\n",
       "    </tr>\n",
       "  </tbody>\n",
       "</table>\n",
       "<p>3 rows × 149 columns</p>\n",
       "</div>"
      ],
      "text/plain": [
       "       DISCLISCI  TEACHSUP  IBTEACH  TDTEACH  ENVAWARE  ENVOPT  JOYSCIE  \\\n",
       "55044    -0.0405   -0.1164  -0.0890  -0.6102   -0.0081 -1.0294  -0.2145   \n",
       "58204    -0.3164    0.3574   0.9452  -0.6102    0.5925 -1.0294  -1.4311   \n",
       "97158     0.0039   -0.1164   0.4311   0.4505   -0.1824  3.0127   0.5094   \n",
       "\n",
       "       INTBRSCI  INSTSCIE  SCIEEFF  ...  COBN_S__181004  COBN_S__903200  \\\n",
       "55044   -1.4829   -0.5375   0.0900  ...               0               0   \n",
       "58204   -0.7446   -1.9301  -0.5508  ...               0               0   \n",
       "97158    0.3721    0.3708   0.5037  ...               0               0   \n",
       "\n",
       "       COBN_S__907600  COBN_S__915200  COBN_S__917000  COBN_S__939800  \\\n",
       "55044               0               0               0               0   \n",
       "58204               0               0               0               0   \n",
       "97158               0               0               0               0   \n",
       "\n",
       "       COBN_S__945800  COBN_S__948400  COBN_S__984000  ST022Q01TA__2.0  \n",
       "55044               0               0               0                0  \n",
       "58204               0               0               0                1  \n",
       "97158               0               0               0                0  \n",
       "\n",
       "[3 rows x 149 columns]"
      ]
     },
     "execution_count": 251,
     "metadata": {},
     "output_type": "execute_result"
    }
   ],
   "source": [
    "X.sample(3)"
   ]
  },
  {
   "cell_type": "markdown",
   "metadata": {},
   "source": [
    "## Variable objetivo"
   ]
  },
  {
   "cell_type": "code",
   "execution_count": 253,
   "metadata": {},
   "outputs": [
    {
     "name": "stdout",
     "output_type": "stream",
     "text": [
      "1    46855\n",
      "2    35936\n",
      "3    14212\n",
      "4     1375\n",
      "Name: score_range, dtype: int64\n",
      "2    51523\n",
      "1    46855\n",
      "Name: score_range2, dtype: int64\n"
     ]
    }
   ],
   "source": []
  },
  {
   "cell_type": "code",
   "execution_count": 175,
   "metadata": {},
   "outputs": [],
   "source": [
    "y = stu.score_range2 "
   ]
  },
  {
   "cell_type": "code",
   "execution_count": null,
   "metadata": {},
   "outputs": [],
   "source": []
  },
  {
   "cell_type": "code",
   "execution_count": 255,
   "metadata": {},
   "outputs": [
    {
     "name": "stdout",
     "output_type": "stream",
     "text": [
      "X      (98378, 149)\n",
      "y      (98378,)\n",
      "weight (98378,)\n"
     ]
    }
   ],
   "source": [
    "print('X     ', X.shape)\n",
    "print('y     ', y.shape)\n",
    "print('weight', weight.shape)"
   ]
  },
  {
   "cell_type": "code",
   "execution_count": null,
   "metadata": {},
   "outputs": [],
   "source": []
  },
  {
   "cell_type": "code",
   "execution_count": null,
   "metadata": {},
   "outputs": [],
   "source": []
  },
  {
   "cell_type": "code",
   "execution_count": 179,
   "metadata": {},
   "outputs": [],
   "source": []
  },
  {
   "cell_type": "markdown",
   "metadata": {},
   "source": [
    "## TREE MODEL"
   ]
  },
  {
   "cell_type": "code",
   "execution_count": 144,
   "metadata": {},
   "outputs": [],
   "source": [
    "from sklearn.tree import DecisionTreeClassifier\n",
    "from IPython.display import Image\n",
    "from sklearn.tree import export_graphviz\n",
    "import pydotplus"
   ]
  },
  {
   "cell_type": "code",
   "execution_count": 145,
   "metadata": {},
   "outputs": [],
   "source": [
    "# partimos en entrenamiento-prueba\n",
    "X_train, X_test, y_train, y_test = train_test_split(X, y, test_size=0.3, random_state=41)"
   ]
  },
  {
   "cell_type": "code",
   "execution_count": 41,
   "metadata": {},
   "outputs": [
    {
     "data": {
      "text/plain": [
       "DecisionTreeClassifier(class_weight=None, criterion='gini', max_depth=3,\n",
       "                       max_features=None, max_leaf_nodes=None,\n",
       "                       min_impurity_decrease=0.0, min_impurity_split=None,\n",
       "                       min_samples_leaf=1, min_samples_split=2,\n",
       "                       min_weight_fraction_leaf=0.0, presort=False,\n",
       "                       random_state=1, splitter='best')"
      ]
     },
     "execution_count": 41,
     "metadata": {},
     "output_type": "execute_result"
    }
   ],
   "source": [
    "# Ajustar un árbol de clasificación con max_depth=3\n",
    "treeclf = DecisionTreeClassifier(max_depth=3, random_state=1)\n",
    "treeclf.fit(X_train, y_train)"
   ]
  },
  {
   "cell_type": "code",
   "execution_count": 50,
   "metadata": {},
   "outputs": [
    {
     "data": {
      "text/plain": [
       "array([[ 197,  306],\n",
       "       [  94, 1266]], dtype=int64)"
      ]
     },
     "execution_count": 50,
     "metadata": {},
     "output_type": "execute_result"
    }
   ],
   "source": [
    "y_pred = treeclf.predict(X_test) #Está usando la media y el desvió estándar del train, y no del test, así no hay data leakage\n",
    "confusion_matrix(y_test, y_pred)"
   ]
  },
  {
   "cell_type": "code",
   "execution_count": 46,
   "metadata": {},
   "outputs": [
    {
     "data": {
      "image/png": "[encoded data removed]",
      "text/plain": [
       "<IPython.core.display.Image object>"
      ]
     },
     "execution_count": 46,
     "metadata": {},
     "output_type": "execute_result"
    }
   ],
   "source": [
    "# Visualizar el árbol usando graphviz\n",
    "dot_data = export_graphviz(treeclf, out_file=None,  \n",
    "                filled=True, rounded=True,  \n",
    "                special_characters=True)  \n",
    "graph = pydotplus.graph_from_dot_data(dot_data)\n",
    "Image(graph.create_png())"
   ]
  },
  {
   "cell_type": "code",
   "execution_count": 54,
   "metadata": {},
   "outputs": [
    {
     "data": {
      "image/png": "[encoded data removed]",
      "text/plain": [
       "<Figure size 432x288 with 2 Axes>"
      ]
     },
     "metadata": {
      "needs_background": "light"
     },
     "output_type": "display_data"
    }
   ],
   "source": [
    "sns.heatmap(confusion_matrix(y_test, y_pred), annot=True, xticklabels=[\"Desaprobado\", \"Aprobado\"], yticklabels=[\"Desaprobado\", \"Aprobado\"])\n",
    "plt.ylabel('Verdaderos')\n",
    "plt.xlabel('Valores predichos');"
   ]
  },
  {
   "cell_type": "code",
   "execution_count": 51,
   "metadata": {},
   "outputs": [
    {
     "name": "stdout",
     "output_type": "stream",
     "text": [
      "Métricas de predicción para test Tree\n",
      "Accuracy: 78.53%\n",
      "Recall: 39.17%\n",
      "Precisión: 67.70%\n",
      "F1Score: 49.62%\n"
     ]
    }
   ],
   "source": [
    "print('Métricas de predicción para test Tree')\n",
    "print(\"Accuracy:\",'{:.2%}'.format(accuracy_score(y_test, y_pred)))\n",
    "print(\"Recall:\",'{:.2%}'.format(recall_score(y_test, y_pred)))\n",
    "print(\"Precisión:\",'{:.2%}'.format(precision_score(y_test, y_pred)))\n",
    "print(\"F1Score:\",'{:.2%}'.format(f1_score(y_test,y_pred)))"
   ]
  },
  {
   "cell_type": "code",
   "execution_count": 53,
   "metadata": {
    "collapsed": true
   },
   "outputs": [
    {
     "data": {
      "text/html": [
       "<div>\n",
       "<style scoped>\n",
       "    .dataframe tbody tr th:only-of-type {\n",
       "        vertical-align: middle;\n",
       "    }\n",
       "\n",
       "    .dataframe tbody tr th {\n",
       "        vertical-align: top;\n",
       "    }\n",
       "\n",
       "    .dataframe thead th {\n",
       "        text-align: right;\n",
       "    }\n",
       "</style>\n",
       "<table border=\"1\" class=\"dataframe\">\n",
       "  <thead>\n",
       "    <tr style=\"text-align: right;\">\n",
       "      <th></th>\n",
       "      <th>atributo</th>\n",
       "      <th>importancia</th>\n",
       "    </tr>\n",
       "  </thead>\n",
       "  <tbody>\n",
       "    <tr>\n",
       "      <th>16</th>\n",
       "      <td>SMINS</td>\n",
       "      <td>0.532399</td>\n",
       "    </tr>\n",
       "    <tr>\n",
       "      <th>10</th>\n",
       "      <td>EPIST</td>\n",
       "      <td>0.231608</td>\n",
       "    </tr>\n",
       "    <tr>\n",
       "      <th>30</th>\n",
       "      <td>HOMEPOS</td>\n",
       "      <td>0.114896</td>\n",
       "    </tr>\n",
       "    <tr>\n",
       "      <th>31</th>\n",
       "      <td>ICTRES</td>\n",
       "      <td>0.080082</td>\n",
       "    </tr>\n",
       "    <tr>\n",
       "      <th>15</th>\n",
       "      <td>LMINS</td>\n",
       "      <td>0.025438</td>\n",
       "    </tr>\n",
       "    <tr>\n",
       "      <th>5</th>\n",
       "      <td>ENVOPT</td>\n",
       "      <td>0.015577</td>\n",
       "    </tr>\n",
       "    <tr>\n",
       "      <th>76</th>\n",
       "      <td>COBN_F__945800</td>\n",
       "      <td>0.000000</td>\n",
       "    </tr>\n",
       "    <tr>\n",
       "      <th>75</th>\n",
       "      <td>COBN_F__939800</td>\n",
       "      <td>0.000000</td>\n",
       "    </tr>\n",
       "    <tr>\n",
       "      <th>74</th>\n",
       "      <td>COBN_F__903200</td>\n",
       "      <td>0.000000</td>\n",
       "    </tr>\n",
       "    <tr>\n",
       "      <th>73</th>\n",
       "      <td>COBN_F__181004</td>\n",
       "      <td>0.000000</td>\n",
       "    </tr>\n",
       "    <tr>\n",
       "      <th>72</th>\n",
       "      <td>COBN_F__085800</td>\n",
       "      <td>0.000000</td>\n",
       "    </tr>\n",
       "    <tr>\n",
       "      <th>71</th>\n",
       "      <td>COBN_F__060000</td>\n",
       "      <td>0.000000</td>\n",
       "    </tr>\n",
       "    <tr>\n",
       "      <th>70</th>\n",
       "      <td>COBN_F__045800</td>\n",
       "      <td>0.000000</td>\n",
       "    </tr>\n",
       "    <tr>\n",
       "      <th>69</th>\n",
       "      <td>COBN_F__039800</td>\n",
       "      <td>0.000000</td>\n",
       "    </tr>\n",
       "    <tr>\n",
       "      <th>68</th>\n",
       "      <td>COBN_F__015200</td>\n",
       "      <td>0.000000</td>\n",
       "    </tr>\n",
       "    <tr>\n",
       "      <th>67</th>\n",
       "      <td>COBN_F__007600</td>\n",
       "      <td>0.000000</td>\n",
       "    </tr>\n",
       "    <tr>\n",
       "      <th>0</th>\n",
       "      <td>DISCLISCI</td>\n",
       "      <td>0.000000</td>\n",
       "    </tr>\n",
       "    <tr>\n",
       "      <th>77</th>\n",
       "      <td>COBN_M__003200</td>\n",
       "      <td>0.000000</td>\n",
       "    </tr>\n",
       "    <tr>\n",
       "      <th>65</th>\n",
       "      <td>COBN_F__003200</td>\n",
       "      <td>0.000000</td>\n",
       "    </tr>\n",
       "    <tr>\n",
       "      <th>64</th>\n",
       "      <td>DURECEC__8.0</td>\n",
       "      <td>0.000000</td>\n",
       "    </tr>\n",
       "    <tr>\n",
       "      <th>63</th>\n",
       "      <td>DURECEC__6.0</td>\n",
       "      <td>0.000000</td>\n",
       "    </tr>\n",
       "    <tr>\n",
       "      <th>62</th>\n",
       "      <td>DURECEC__5.0</td>\n",
       "      <td>0.000000</td>\n",
       "    </tr>\n",
       "    <tr>\n",
       "      <th>61</th>\n",
       "      <td>DURECEC__4.0</td>\n",
       "      <td>0.000000</td>\n",
       "    </tr>\n",
       "    <tr>\n",
       "      <th>60</th>\n",
       "      <td>DURECEC__3.0</td>\n",
       "      <td>0.000000</td>\n",
       "    </tr>\n",
       "    <tr>\n",
       "      <th>59</th>\n",
       "      <td>DURECEC__2.0</td>\n",
       "      <td>0.000000</td>\n",
       "    </tr>\n",
       "    <tr>\n",
       "      <th>58</th>\n",
       "      <td>DURECEC__1.0</td>\n",
       "      <td>0.000000</td>\n",
       "    </tr>\n",
       "    <tr>\n",
       "      <th>57</th>\n",
       "      <td>REPEAT__1.0</td>\n",
       "      <td>0.000000</td>\n",
       "    </tr>\n",
       "    <tr>\n",
       "      <th>56</th>\n",
       "      <td>HISCED__6.0</td>\n",
       "      <td>0.000000</td>\n",
       "    </tr>\n",
       "    <tr>\n",
       "      <th>66</th>\n",
       "      <td>COBN_F__006800</td>\n",
       "      <td>0.000000</td>\n",
       "    </tr>\n",
       "    <tr>\n",
       "      <th>79</th>\n",
       "      <td>COBN_M__007600</td>\n",
       "      <td>0.000000</td>\n",
       "    </tr>\n",
       "    <tr>\n",
       "      <th>...</th>\n",
       "      <td>...</td>\n",
       "      <td>...</td>\n",
       "    </tr>\n",
       "    <tr>\n",
       "      <th>7</th>\n",
       "      <td>INTBRSCI</td>\n",
       "      <td>0.000000</td>\n",
       "    </tr>\n",
       "    <tr>\n",
       "      <th>6</th>\n",
       "      <td>JOYSCIE</td>\n",
       "      <td>0.000000</td>\n",
       "    </tr>\n",
       "    <tr>\n",
       "      <th>4</th>\n",
       "      <td>ENVAWARE</td>\n",
       "      <td>0.000000</td>\n",
       "    </tr>\n",
       "    <tr>\n",
       "      <th>3</th>\n",
       "      <td>TDTEACH</td>\n",
       "      <td>0.000000</td>\n",
       "    </tr>\n",
       "    <tr>\n",
       "      <th>2</th>\n",
       "      <td>IBTEACH</td>\n",
       "      <td>0.000000</td>\n",
       "    </tr>\n",
       "    <tr>\n",
       "      <th>26</th>\n",
       "      <td>unfairteacher</td>\n",
       "      <td>0.000000</td>\n",
       "    </tr>\n",
       "    <tr>\n",
       "      <th>28</th>\n",
       "      <td>CULTPOSS</td>\n",
       "      <td>0.000000</td>\n",
       "    </tr>\n",
       "    <tr>\n",
       "      <th>52</th>\n",
       "      <td>HISCED__2.0</td>\n",
       "      <td>0.000000</td>\n",
       "    </tr>\n",
       "    <tr>\n",
       "      <th>42</th>\n",
       "      <td>MISCED__4.0</td>\n",
       "      <td>0.000000</td>\n",
       "    </tr>\n",
       "    <tr>\n",
       "      <th>1</th>\n",
       "      <td>TEACHSUP</td>\n",
       "      <td>0.000000</td>\n",
       "    </tr>\n",
       "    <tr>\n",
       "      <th>50</th>\n",
       "      <td>FISCED__6.0</td>\n",
       "      <td>0.000000</td>\n",
       "    </tr>\n",
       "    <tr>\n",
       "      <th>49</th>\n",
       "      <td>FISCED__5.0</td>\n",
       "      <td>0.000000</td>\n",
       "    </tr>\n",
       "    <tr>\n",
       "      <th>48</th>\n",
       "      <td>FISCED__4.0</td>\n",
       "      <td>0.000000</td>\n",
       "    </tr>\n",
       "    <tr>\n",
       "      <th>47</th>\n",
       "      <td>FISCED__3.0</td>\n",
       "      <td>0.000000</td>\n",
       "    </tr>\n",
       "    <tr>\n",
       "      <th>46</th>\n",
       "      <td>FISCED__2.0</td>\n",
       "      <td>0.000000</td>\n",
       "    </tr>\n",
       "    <tr>\n",
       "      <th>45</th>\n",
       "      <td>FISCED__1.0</td>\n",
       "      <td>0.000000</td>\n",
       "    </tr>\n",
       "    <tr>\n",
       "      <th>44</th>\n",
       "      <td>MISCED__6.0</td>\n",
       "      <td>0.000000</td>\n",
       "    </tr>\n",
       "    <tr>\n",
       "      <th>43</th>\n",
       "      <td>MISCED__5.0</td>\n",
       "      <td>0.000000</td>\n",
       "    </tr>\n",
       "    <tr>\n",
       "      <th>41</th>\n",
       "      <td>MISCED__3.0</td>\n",
       "      <td>0.000000</td>\n",
       "    </tr>\n",
       "    <tr>\n",
       "      <th>29</th>\n",
       "      <td>HEDRES</td>\n",
       "      <td>0.000000</td>\n",
       "    </tr>\n",
       "    <tr>\n",
       "      <th>40</th>\n",
       "      <td>MISCED__2.0</td>\n",
       "      <td>0.000000</td>\n",
       "    </tr>\n",
       "    <tr>\n",
       "      <th>39</th>\n",
       "      <td>MISCED__1.0</td>\n",
       "      <td>0.000000</td>\n",
       "    </tr>\n",
       "    <tr>\n",
       "      <th>38</th>\n",
       "      <td>IMMIG__3.0</td>\n",
       "      <td>0.000000</td>\n",
       "    </tr>\n",
       "    <tr>\n",
       "      <th>37</th>\n",
       "      <td>IMMIG__2.0</td>\n",
       "      <td>0.000000</td>\n",
       "    </tr>\n",
       "    <tr>\n",
       "      <th>36</th>\n",
       "      <td>Region__45800.0</td>\n",
       "      <td>0.000000</td>\n",
       "    </tr>\n",
       "    <tr>\n",
       "      <th>35</th>\n",
       "      <td>Region__39800.0</td>\n",
       "      <td>0.000000</td>\n",
       "    </tr>\n",
       "    <tr>\n",
       "      <th>34</th>\n",
       "      <td>Region__3201.0</td>\n",
       "      <td>0.000000</td>\n",
       "    </tr>\n",
       "    <tr>\n",
       "      <th>33</th>\n",
       "      <td>ESCS</td>\n",
       "      <td>0.000000</td>\n",
       "    </tr>\n",
       "    <tr>\n",
       "      <th>32</th>\n",
       "      <td>WEALTH</td>\n",
       "      <td>0.000000</td>\n",
       "    </tr>\n",
       "    <tr>\n",
       "      <th>101</th>\n",
       "      <td>ST022Q01TA__2.0</td>\n",
       "      <td>0.000000</td>\n",
       "    </tr>\n",
       "  </tbody>\n",
       "</table>\n",
       "<p>102 rows × 2 columns</p>\n",
       "</div>"
      ],
      "text/plain": [
       "            atributo  importancia\n",
       "16             SMINS     0.532399\n",
       "10             EPIST     0.231608\n",
       "30           HOMEPOS     0.114896\n",
       "31            ICTRES     0.080082\n",
       "15             LMINS     0.025438\n",
       "5             ENVOPT     0.015577\n",
       "76    COBN_F__945800     0.000000\n",
       "75    COBN_F__939800     0.000000\n",
       "74    COBN_F__903200     0.000000\n",
       "73    COBN_F__181004     0.000000\n",
       "72    COBN_F__085800     0.000000\n",
       "71    COBN_F__060000     0.000000\n",
       "70    COBN_F__045800     0.000000\n",
       "69    COBN_F__039800     0.000000\n",
       "68    COBN_F__015200     0.000000\n",
       "67    COBN_F__007600     0.000000\n",
       "0          DISCLISCI     0.000000\n",
       "77    COBN_M__003200     0.000000\n",
       "65    COBN_F__003200     0.000000\n",
       "64      DURECEC__8.0     0.000000\n",
       "63      DURECEC__6.0     0.000000\n",
       "62      DURECEC__5.0     0.000000\n",
       "61      DURECEC__4.0     0.000000\n",
       "60      DURECEC__3.0     0.000000\n",
       "59      DURECEC__2.0     0.000000\n",
       "58      DURECEC__1.0     0.000000\n",
       "57       REPEAT__1.0     0.000000\n",
       "56       HISCED__6.0     0.000000\n",
       "66    COBN_F__006800     0.000000\n",
       "79    COBN_M__007600     0.000000\n",
       "..               ...          ...\n",
       "7           INTBRSCI     0.000000\n",
       "6            JOYSCIE     0.000000\n",
       "4           ENVAWARE     0.000000\n",
       "3            TDTEACH     0.000000\n",
       "2            IBTEACH     0.000000\n",
       "26     unfairteacher     0.000000\n",
       "28          CULTPOSS     0.000000\n",
       "52       HISCED__2.0     0.000000\n",
       "42       MISCED__4.0     0.000000\n",
       "1           TEACHSUP     0.000000\n",
       "50       FISCED__6.0     0.000000\n",
       "49       FISCED__5.0     0.000000\n",
       "48       FISCED__4.0     0.000000\n",
       "47       FISCED__3.0     0.000000\n",
       "46       FISCED__2.0     0.000000\n",
       "45       FISCED__1.0     0.000000\n",
       "44       MISCED__6.0     0.000000\n",
       "43       MISCED__5.0     0.000000\n",
       "41       MISCED__3.0     0.000000\n",
       "29            HEDRES     0.000000\n",
       "40       MISCED__2.0     0.000000\n",
       "39       MISCED__1.0     0.000000\n",
       "38        IMMIG__3.0     0.000000\n",
       "37        IMMIG__2.0     0.000000\n",
       "36   Region__45800.0     0.000000\n",
       "35   Region__39800.0     0.000000\n",
       "34    Region__3201.0     0.000000\n",
       "33              ESCS     0.000000\n",
       "32            WEALTH     0.000000\n",
       "101  ST022Q01TA__2.0     0.000000\n",
       "\n",
       "[102 rows x 2 columns]"
      ]
     },
     "execution_count": 53,
     "metadata": {},
     "output_type": "execute_result"
    }
   ],
   "source": [
    "pd.DataFrame({'atributo':X.columns, 'importancia':treeclf.feature_importances_}).sort_values('importancia', ascending = False)"
   ]
  },
  {
   "cell_type": "markdown",
   "metadata": {},
   "source": [
    "## Random Forest"
   ]
  },
  {
   "cell_type": "code",
   "execution_count": 257,
   "metadata": {},
   "outputs": [],
   "source": [
    "from sklearn.ensemble import RandomForestClassifier"
   ]
  },
  {
   "cell_type": "code",
   "execution_count": 258,
   "metadata": {},
   "outputs": [
    {
     "data": {
      "text/plain": [
       "(21682, 149)"
      ]
     },
     "execution_count": 258,
     "metadata": {},
     "output_type": "execute_result"
    }
   ],
   "source": [
    "X.dropna(axis=0, inplace=True) #sacamos filas que tienen NaN\n",
    "X.shape"
   ]
  },
  {
   "cell_type": "code",
   "execution_count": null,
   "metadata": {},
   "outputs": [],
   "source": []
  },
  {
   "cell_type": "code",
   "execution_count": 197,
   "metadata": {},
   "outputs": [],
   "source": [
    "listado=X.index.tolist()\n",
    "y=y[listado] #sacamos las mismas filas en y \n",
    "y.shape\n",
    "\n",
    "weight_x = weight[listado]"
   ]
  },
  {
   "cell_type": "code",
   "execution_count": 190,
   "metadata": {},
   "outputs": [],
   "source": [
    "X_train, X_test, y_train, y_test = train_test_split(X, y, test_size=0.3, random_state=41)"
   ]
  },
  {
   "cell_type": "code",
   "execution_count": 201,
   "metadata": {},
   "outputs": [
    {
     "data": {
      "text/plain": [
       "(15177,)"
      ]
     },
     "execution_count": 201,
     "metadata": {},
     "output_type": "execute_result"
    }
   ],
   "source": [
    "listado_train=X_train.index.tolist()\n",
    "weight_x_train=weight_x[listado_train] #sacamos las mismas filas en y \n",
    "weight_x_train.shape"
   ]
  },
  {
   "cell_type": "code",
   "execution_count": 203,
   "metadata": {},
   "outputs": [
    {
     "data": {
      "text/plain": [
       "(6505,)"
      ]
     },
     "execution_count": 203,
     "metadata": {},
     "output_type": "execute_result"
    }
   ],
   "source": [
    "listado_test=X_test.index.tolist()\n",
    "weight_x_test=weight_x[listado_test] #sacamos las mismas filas en y \n",
    "weight_x_test.shape"
   ]
  },
  {
   "cell_type": "code",
   "execution_count": 202,
   "metadata": {
    "scrolled": true
   },
   "outputs": [
    {
     "name": "stderr",
     "output_type": "stream",
     "text": [
      "C:\\Users\\sanap\\Anaconda3\\lib\\site-packages\\sklearn\\ensemble\\forest.py:246: FutureWarning: The default value of n_estimators will change from 10 in version 0.20 to 100 in 0.22.\n",
      "  \"10 in version 0.20 to 100 in 0.22.\", FutureWarning)\n"
     ]
    },
    {
     "data": {
      "text/plain": [
       "RandomForestClassifier(bootstrap=True, class_weight=None, criterion='gini',\n",
       "            max_depth=None, max_features='auto', max_leaf_nodes=None,\n",
       "            min_impurity_decrease=0.0, min_impurity_split=None,\n",
       "            min_samples_leaf=1, min_samples_split=2,\n",
       "            min_weight_fraction_leaf=0.0, n_estimators=10, n_jobs=-1,\n",
       "            oob_score=False, random_state=1, verbose=0, warm_start=False)"
      ]
     },
     "execution_count": 202,
     "metadata": {},
     "output_type": "execute_result"
    }
   ],
   "source": [
    "# Ajustar un Random Forest de clasificación con max_depth=3\n",
    "rforestclf = RandomForestClassifier(max_depth=None, random_state=1, n_jobs=-1)\n",
    "rforestclf.fit(X_train, y_train, sample_weight=weight_x_train)"
   ]
  },
  {
   "cell_type": "code",
   "execution_count": 204,
   "metadata": {},
   "outputs": [
    {
     "data": {
      "text/plain": [
       "array([[1545,  775],\n",
       "       [ 719, 3466]], dtype=int64)"
      ]
     },
     "execution_count": 204,
     "metadata": {},
     "output_type": "execute_result"
    }
   ],
   "source": [
    "y_pred = rforestclf.predict(X_test) #Está usando la media y el desvió estándar del train, y no del test, así no hay data leakage\n",
    "confusion_matrix(y_test, y_pred)"
   ]
  },
  {
   "cell_type": "code",
   "execution_count": 210,
   "metadata": {},
   "outputs": [
    {
     "name": "stdout",
     "output_type": "stream",
     "text": [
      "Métricas de predicción para test RandomForest\n",
      "Accuracy: 77.03%\n",
      "Recall: 66.59%\n",
      "Precisión: 68.24%\n",
      "F1Score: 67.41%\n"
     ]
    }
   ],
   "source": [
    "print('Métricas de predicción para test RandomForest')\n",
    "print(\"Accuracy:\",'{:.2%}'.format(accuracy_score(y_test, y_pred)))\n",
    "print(\"Recall:\",'{:.2%}'.format(recall_score(y_test, y_pred)))\n",
    "print(\"Precisión:\",'{:.2%}'.format(precision_score(y_test, y_pred)))\n",
    "print(\"F1Score:\",'{:.2%}'.format(f1_score(y_test,y_pred)))"
   ]
  },
  {
   "cell_type": "code",
   "execution_count": null,
   "metadata": {},
   "outputs": [],
   "source": [
    "Métricas de predicción para test Regresión Logística\n",
    "Accuracy: 82.29%\n",
    "Recall: 60.87%\n",
    "Precisión: 69.04%\n",
    "F1Score: 64.70%"
   ]
  },
  {
   "cell_type": "code",
   "execution_count": 211,
   "metadata": {},
   "outputs": [
    {
     "data": {
      "image/png": "[encoded data removed]",
      "text/plain": [
       "<Figure size 432x288 with 2 Axes>"
      ]
     },
     "metadata": {
      "needs_background": "light"
     },
     "output_type": "display_data"
    }
   ],
   "source": [
    "sns.heatmap(confusion_matrix(y_test, y_pred), annot=True, xticklabels=[\"Desaprobado\", \"Aprobado\"], yticklabels=[\"Desaprobado\", \"Aprobado\"])\n",
    "plt.ylabel('Verdaderos')\n",
    "plt.xlabel('Valores predichos');"
   ]
  },
  {
   "cell_type": "markdown",
   "metadata": {},
   "source": [
    "## Hacemos un GridSearch sobre RF"
   ]
  },
  {
   "cell_type": "code",
   "execution_count": null,
   "metadata": {},
   "outputs": [],
   "source": [
    "from sklearn.model_selection import GridSearchCV\n",
    "from sklearn.model_selection import cross_val_score, StratifiedKFold"
   ]
  },
  {
   "cell_type": "code",
   "execution_count": 40,
   "metadata": {},
   "outputs": [],
   "source": [
    "param_trees = {'n_estimators': [50, 100, 200], \n",
    "               'max_features': [1, 5, 8, 10, 21], \n",
    "               'max_depth': [5, 20, 50, 70, 100], \n",
    "               'min_samples_leaf':[1, 5, 8, 10, 50]}"
   ]
  },
  {
   "cell_type": "code",
   "execution_count": 43,
   "metadata": {},
   "outputs": [],
   "source": [
    "cv = StratifiedKFold(n_splits=3, random_state=41, shuffle=True)"
   ]
  },
  {
   "cell_type": "code",
   "execution_count": 44,
   "metadata": {},
   "outputs": [],
   "source": [
    "grid_search_rf = GridSearchCV(rforestclf, param_grid=param_trees, cv=cv, verbose=1, n_jobs=-1)"
   ]
  },
  {
   "cell_type": "code",
   "execution_count": 45,
   "metadata": {},
   "outputs": [
    {
     "name": "stdout",
     "output_type": "stream",
     "text": [
      "Fitting 3 folds for each of 375 candidates, totalling 1125 fits\n"
     ]
    },
    {
     "name": "stderr",
     "output_type": "stream",
     "text": [
      "[Parallel(n_jobs=-1)]: Using backend LokyBackend with 4 concurrent workers.\n",
      "[Parallel(n_jobs=-1)]: Done  42 tasks      | elapsed:   11.4s\n",
      "[Parallel(n_jobs=-1)]: Done 192 tasks      | elapsed:   43.1s\n",
      "[Parallel(n_jobs=-1)]: Done 442 tasks      | elapsed:  2.1min\n",
      "[Parallel(n_jobs=-1)]: Done 792 tasks      | elapsed:  3.9min\n",
      "[Parallel(n_jobs=-1)]: Done 1125 out of 1125 | elapsed:  5.8min finished\n"
     ]
    },
    {
     "data": {
      "text/plain": [
       "GridSearchCV(cv=StratifiedKFold(n_splits=3, random_state=41, shuffle=True),\n",
       "             error_score='raise-deprecating',\n",
       "             estimator=RandomForestClassifier(bootstrap=True, class_weight=None,\n",
       "                                              criterion='gini', max_depth=None,\n",
       "                                              max_features='auto',\n",
       "                                              max_leaf_nodes=None,\n",
       "                                              min_impurity_decrease=0.0,\n",
       "                                              min_impurity_split=None,\n",
       "                                              min_samples_leaf=1,\n",
       "                                              min_samples_split=2,\n",
       "                                              min_weight_fraction_leaf=0.0,\n",
       "                                              n_estimators=10, n_jobs=-1,\n",
       "                                              oob_score=False, random_state=1,\n",
       "                                              verbose=0, warm_start=False),\n",
       "             iid='warn', n_jobs=-1,\n",
       "             param_grid={'max_depth': [5, 20, 50, 70, 100],\n",
       "                         'max_features': [1, 5, 8, 10, 21],\n",
       "                         'min_samples_leaf': [1, 5, 8, 10, 50],\n",
       "                         'n_estimators': [50, 100, 200]},\n",
       "             pre_dispatch='2*n_jobs', refit=True, return_train_score=False,\n",
       "             scoring=None, verbose=1)"
      ]
     },
     "execution_count": 45,
     "metadata": {},
     "output_type": "execute_result"
    }
   ],
   "source": [
    "grid_search_rf.fit(X_train, y_train, sample_weight=weight)"
   ]
  },
  {
   "cell_type": "code",
   "execution_count": 46,
   "metadata": {},
   "outputs": [],
   "source": [
    "RF_GS=grid_search_rf.best_estimator_"
   ]
  },
  {
   "cell_type": "code",
   "execution_count": 48,
   "metadata": {},
   "outputs": [
    {
     "data": {
      "text/plain": [
       "RandomForestClassifier(bootstrap=True, class_weight=None, criterion='gini',\n",
       "                       max_depth=20, max_features=8, max_leaf_nodes=None,\n",
       "                       min_impurity_decrease=0.0, min_impurity_split=None,\n",
       "                       min_samples_leaf=1, min_samples_split=2,\n",
       "                       min_weight_fraction_leaf=0.0, n_estimators=50, n_jobs=-1,\n",
       "                       oob_score=False, random_state=1, verbose=0,\n",
       "                       warm_start=False)"
      ]
     },
     "execution_count": 48,
     "metadata": {},
     "output_type": "execute_result"
    }
   ],
   "source": [
    "grid_search_rf.best_estimator_"
   ]
  },
  {
   "cell_type": "code",
   "execution_count": 49,
   "metadata": {},
   "outputs": [
    {
     "data": {
      "text/plain": [
       "array([[ 245,  258],\n",
       "       [  70, 1290]], dtype=int64)"
      ]
     },
     "execution_count": 49,
     "metadata": {},
     "output_type": "execute_result"
    }
   ],
   "source": [
    "y_predRFGS = RF_GS.predict(X_test) #Está usando la media y el desvió estándar del train, y no del test, así no hay data leakage\n",
    "confusion_matrix(y_test, y_predRFGS)"
   ]
  },
  {
   "cell_type": "code",
   "execution_count": 54,
   "metadata": {},
   "outputs": [
    {
     "name": "stdout",
     "output_type": "stream",
     "text": [
      "Métricas de predicción para test RandomForest con GS\n",
      "Accuracy: 82.39%\n",
      "Recall: 48.71%\n",
      "Precisión: 77.78%\n",
      "F1Score: 59.90%\n"
     ]
    }
   ],
   "source": [
    "print('Métricas de predicción para test RandomForest con GS')\n",
    "print(\"Accuracy:\",'{:.2%}'.format(accuracy_score(y_test, y_predRFGS)))\n",
    "print(\"Recall:\",'{:.2%}'.format(recall_score(y_test, y_predRFGS)))\n",
    "print(\"Precisión:\",'{:.2%}'.format(precision_score(y_test, y_predRFGS)))\n",
    "print(\"F1Score:\",'{:.2%}'.format(f1_score(y_test,y_predRFGS)))"
   ]
  },
  {
   "cell_type": "markdown",
   "metadata": {},
   "source": [
    "## XGBoost\n",
    "\n",
    "Pendiente: hacer un Gridsearch para poder tener los hiperparámetros. Después de correr XGBoost podemos hacer un results comparison ´(importances = list(rf.feature_importances_))´ para ver el peso de cada una de las variables y cuando se rompe el modelo."
   ]
  },
  {
   "cell_type": "code",
   "execution_count": 215,
   "metadata": {},
   "outputs": [
    {
     "name": "stdout",
     "output_type": "stream",
     "text": [
      "Collecting xgboost\n",
      "  Downloading https://files.pythonhosted.org/packages/5e/49/b95c037b717b4ceadc76b6e164603471225c27052d1611d5a2e832757945/xgboost-0.90-py2.py3-none-win_amd64.whl (18.3MB)\n",
      "Requirement already satisfied: scipy in c:\\users\\sanap\\anaconda3\\lib\\site-packages (from xgboost) (1.2.1)\n",
      "Requirement already satisfied: numpy in c:\\users\\sanap\\anaconda3\\lib\\site-packages (from xgboost) (1.16.3)\n",
      "Installing collected packages: xgboost\n",
      "Successfully installed xgboost-0.90\n"
     ]
    }
   ],
   "source": [
    "!pip install xgboost"
   ]
  },
  {
   "cell_type": "code",
   "execution_count": 216,
   "metadata": {},
   "outputs": [],
   "source": [
    "import xgboost as xgb"
   ]
  },
  {
   "cell_type": "code",
   "execution_count": 217,
   "metadata": {},
   "outputs": [],
   "source": [
    "X = pd.concat([X_numericas, dummies_resul], axis=1)"
   ]
  },
  {
   "cell_type": "code",
   "execution_count": 218,
   "metadata": {},
   "outputs": [],
   "source": [
    "y=stu.score_range2 #obtenemos nuestro \"y\" del dataframe stu"
   ]
  },
  {
   "cell_type": "code",
   "execution_count": 219,
   "metadata": {},
   "outputs": [
    {
     "data": {
      "text/plain": [
       "(98378, 149)"
      ]
     },
     "execution_count": 219,
     "metadata": {},
     "output_type": "execute_result"
    }
   ],
   "source": [
    "X.shape"
   ]
  },
  {
   "cell_type": "code",
   "execution_count": 220,
   "metadata": {},
   "outputs": [
    {
     "data": {
      "text/plain": [
       "(98378,)"
      ]
     },
     "execution_count": 220,
     "metadata": {},
     "output_type": "execute_result"
    }
   ],
   "source": [
    "y.shape"
   ]
  },
  {
   "cell_type": "code",
   "execution_count": 226,
   "metadata": {},
   "outputs": [
    {
     "data": {
      "text/plain": [
       "(98378,)"
      ]
     },
     "execution_count": 226,
     "metadata": {},
     "output_type": "execute_result"
    }
   ],
   "source": [
    "weight.shape"
   ]
  },
  {
   "cell_type": "code",
   "execution_count": 221,
   "metadata": {},
   "outputs": [],
   "source": [
    "X_train, X_test, y_train, y_test = train_test_split(X, y, test_size=0.3, random_state=41)"
   ]
  },
  {
   "cell_type": "code",
   "execution_count": 222,
   "metadata": {},
   "outputs": [],
   "source": [
    "#data_dmatrix=xgb.DMatrix(data=X, label=y) ##no toma string"
   ]
  },
  {
   "cell_type": "code",
   "execution_count": 227,
   "metadata": {},
   "outputs": [
    {
     "name": "stdout",
     "output_type": "stream",
     "text": [
      "(68864, 149)\n",
      "(98378,)\n"
     ]
    }
   ],
   "source": [
    "print(X_train.shape)\n",
    "print(weight.shape)"
   ]
  },
  {
   "cell_type": "code",
   "execution_count": 228,
   "metadata": {},
   "outputs": [
    {
     "data": {
      "text/plain": [
       "XGBClassifier(alpha=10, base_score=0.5, booster='gbtree', colsample_bylevel=1,\n",
       "       colsample_bynode=1, colsample_bytree=1, gamma=0, learning_rate=0.1,\n",
       "       max_delta_step=0, max_depth=5, min_child_weight=1, missing=None,\n",
       "       n_estimators=10, n_jobs=-1, nthread=None,\n",
       "       objective='binary:logistic', random_state=1, reg_alpha=0,\n",
       "       reg_lambda=1, scale_pos_weight=1, seed=None, silent=None,\n",
       "       subsample=1, verbosity=1)"
      ]
     },
     "execution_count": 228,
     "metadata": {},
     "output_type": "execute_result"
    }
   ],
   "source": [
    "xgb_clf = xgb.XGBClassifier(alpha=10, n_estimators=10, max_depth=5, random_state=1, n_jobs=-1)\n",
    "xgb_clf.fit(X_train, y_train)"
   ]
  },
  {
   "cell_type": "code",
   "execution_count": 229,
   "metadata": {},
   "outputs": [
    {
     "data": {
      "text/plain": [
       "array([[10638,  3344],\n",
       "       [ 3136, 12396]], dtype=int64)"
      ]
     },
     "execution_count": 229,
     "metadata": {},
     "output_type": "execute_result"
    }
   ],
   "source": [
    "y_pred = xgb_clf.predict(X_test) #Está usando la media y el desvió estándar del train, y no del test, así no hay data leakage\n",
    "confusion_matrix(y_test, y_pred)"
   ]
  },
  {
   "cell_type": "code",
   "execution_count": 230,
   "metadata": {},
   "outputs": [
    {
     "name": "stdout",
     "output_type": "stream",
     "text": [
      "Métricas de predicción para test XGBoost\n",
      "Accuracy: 78.04%\n",
      "Recall: 76.08%\n",
      "Precisión: 77.23%\n",
      "F1Score: 76.65%\n"
     ]
    }
   ],
   "source": [
    "print('Métricas de predicción para test XGBoost')\n",
    "print(\"Accuracy:\",'{:.2%}'.format(accuracy_score(y_test, y_pred)))\n",
    "print(\"Recall:\",'{:.2%}'.format(recall_score(y_test, y_pred)))\n",
    "print(\"Precisión:\",'{:.2%}'.format(precision_score(y_test, y_pred)))\n",
    "print(\"F1Score:\",'{:.2%}'.format(f1_score(y_test,y_pred)))"
   ]
  },
  {
   "cell_type": "markdown",
   "metadata": {},
   "source": [
    "### Grid Search"
   ]
  },
  {
   "cell_type": "code",
   "execution_count": 91,
   "metadata": {},
   "outputs": [],
   "source": [
    "grid_search_xgb = GridSearchCV(xgb_clf, param_grid=param_trees, cv=cv, verbose=1, n_jobs=-1)"
   ]
  },
  {
   "cell_type": "code",
   "execution_count": null,
   "metadata": {},
   "outputs": [
    {
     "name": "stdout",
     "output_type": "stream",
     "text": [
      "Fitting 3 folds for each of 375 candidates, totalling 1125 fits\n"
     ]
    },
    {
     "name": "stderr",
     "output_type": "stream",
     "text": [
      "[Parallel(n_jobs=-1)]: Using backend LokyBackend with 4 concurrent workers.\n",
      "[Parallel(n_jobs=-1)]: Done  42 tasks      | elapsed:  4.3min\n",
      "[Parallel(n_jobs=-1)]: Done 192 tasks      | elapsed: 19.7min\n"
     ]
    }
   ],
   "source": [
    "grid_search_xgb.fit(X_train, y_train, sample_weight=weight)"
   ]
  },
  {
   "cell_type": "code",
   "execution_count": null,
   "metadata": {},
   "outputs": [],
   "source": [
    "XGB_GS=grid_search_xgb.best_estimator_"
   ]
  },
  {
   "cell_type": "code",
   "execution_count": null,
   "metadata": {},
   "outputs": [],
   "source": [
    "grid_search_xgb.best_estimator_"
   ]
  },
  {
   "cell_type": "code",
   "execution_count": null,
   "metadata": {},
   "outputs": [],
   "source": [
    "y_predXGBGS = XGB_GS.predict(X_test) #Está usando la media y el desvió estándar del train, y no del test, así no hay data leakage\n",
    "confusion_matrix(y_test, y_predXGBGS)"
   ]
  },
  {
   "cell_type": "code",
   "execution_count": null,
   "metadata": {},
   "outputs": [],
   "source": [
    "print('Métricas de predicción para test RandomForest con GS')\n",
    "print(\"Accuracy:\",'{:.2%}'.format(accuracy_score(y_test, y_predXGBGS)))\n",
    "print(\"Recall:\",'{:.2%}'.format(recall_score(y_test, y_predXGBGS)))\n",
    "print(\"Precisión:\",'{:.2%}'.format(precision_score(y_test, y_predXGBGS)))\n",
    "print(\"F1Score:\",'{:.2%}'.format(f1_score(y_test,y_predXGBGS)))"
   ]
  },
  {
   "cell_type": "code",
   "execution_count": null,
   "metadata": {},
   "outputs": [],
   "source": [
    "plt.bar(X_train.columns, grid_search_rf.best_estimator_.feature_importances_)\n",
    "plt.xticks(rotation=\"vertical\")"
   ]
  },
  {
   "cell_type": "markdown",
   "metadata": {},
   "source": [
    "## Otras cosas..."
   ]
  },
  {
   "cell_type": "code",
   "execution_count": 7,
   "metadata": {
    "collapsed": true
   },
   "outputs": [
    {
     "data": {
      "text/html": [
       "<div>\n",
       "<style scoped>\n",
       "    .dataframe tbody tr th:only-of-type {\n",
       "        vertical-align: middle;\n",
       "    }\n",
       "\n",
       "    .dataframe tbody tr th {\n",
       "        vertical-align: top;\n",
       "    }\n",
       "\n",
       "    .dataframe thead th {\n",
       "        text-align: right;\n",
       "    }\n",
       "</style>\n",
       "<table border=\"1\" class=\"dataframe\">\n",
       "  <thead>\n",
       "    <tr style=\"text-align: right;\">\n",
       "      <th></th>\n",
       "      <th>count</th>\n",
       "      <th>mean</th>\n",
       "      <th>std</th>\n",
       "      <th>min</th>\n",
       "      <th>25%</th>\n",
       "      <th>50%</th>\n",
       "      <th>75%</th>\n",
       "      <th>max</th>\n",
       "    </tr>\n",
       "  </thead>\n",
       "  <tbody>\n",
       "    <tr>\n",
       "      <th>DISCLISCI</th>\n",
       "      <td>22114.0</td>\n",
       "      <td>0.377563</td>\n",
       "      <td>0.945654</td>\n",
       "      <td>-2.4162</td>\n",
       "      <td>-0.26830</td>\n",
       "      <td>0.4046</td>\n",
       "      <td>1.04380</td>\n",
       "      <td>1.8837</td>\n",
       "    </tr>\n",
       "    <tr>\n",
       "      <th>TEACHSUP</th>\n",
       "      <td>22089.0</td>\n",
       "      <td>0.474632</td>\n",
       "      <td>0.807812</td>\n",
       "      <td>-2.7195</td>\n",
       "      <td>-0.11640</td>\n",
       "      <td>0.4922</td>\n",
       "      <td>1.44750</td>\n",
       "      <td>1.4475</td>\n",
       "    </tr>\n",
       "    <tr>\n",
       "      <th>IBTEACH</th>\n",
       "      <td>22102.0</td>\n",
       "      <td>0.544360</td>\n",
       "      <td>0.904051</td>\n",
       "      <td>-3.3405</td>\n",
       "      <td>0.00760</td>\n",
       "      <td>0.5268</td>\n",
       "      <td>1.01015</td>\n",
       "      <td>3.1829</td>\n",
       "    </tr>\n",
       "    <tr>\n",
       "      <th>TDTEACH</th>\n",
       "      <td>22014.0</td>\n",
       "      <td>0.432593</td>\n",
       "      <td>1.001452</td>\n",
       "      <td>-2.4476</td>\n",
       "      <td>-0.14950</td>\n",
       "      <td>0.4505</td>\n",
       "      <td>1.09750</td>\n",
       "      <td>2.0781</td>\n",
       "    </tr>\n",
       "    <tr>\n",
       "      <th>ENVAWARE</th>\n",
       "      <td>22662.0</td>\n",
       "      <td>0.400594</td>\n",
       "      <td>1.256571</td>\n",
       "      <td>-3.3765</td>\n",
       "      <td>-0.38640</td>\n",
       "      <td>0.3113</td>\n",
       "      <td>1.08230</td>\n",
       "      <td>3.2932</td>\n",
       "    </tr>\n",
       "    <tr>\n",
       "      <th>ENVOPT</th>\n",
       "      <td>8700.0</td>\n",
       "      <td>0.842075</td>\n",
       "      <td>1.225005</td>\n",
       "      <td>-1.7932</td>\n",
       "      <td>0.09290</td>\n",
       "      <td>0.8249</td>\n",
       "      <td>1.57790</td>\n",
       "      <td>3.0127</td>\n",
       "    </tr>\n",
       "    <tr>\n",
       "      <th>JOYSCIE</th>\n",
       "      <td>22611.0</td>\n",
       "      <td>0.512675</td>\n",
       "      <td>0.999633</td>\n",
       "      <td>-2.1154</td>\n",
       "      <td>-0.13790</td>\n",
       "      <td>0.5094</td>\n",
       "      <td>1.12250</td>\n",
       "      <td>2.1635</td>\n",
       "    </tr>\n",
       "    <tr>\n",
       "      <th>INTBRSCI</th>\n",
       "      <td>8500.0</td>\n",
       "      <td>0.594906</td>\n",
       "      <td>0.740558</td>\n",
       "      <td>-2.4981</td>\n",
       "      <td>0.23350</td>\n",
       "      <td>0.5305</td>\n",
       "      <td>0.97135</td>\n",
       "      <td>2.6033</td>\n",
       "    </tr>\n",
       "    <tr>\n",
       "      <th>INSTSCIE</th>\n",
       "      <td>22531.0</td>\n",
       "      <td>0.598529</td>\n",
       "      <td>0.900164</td>\n",
       "      <td>-1.9301</td>\n",
       "      <td>0.01250</td>\n",
       "      <td>0.3708</td>\n",
       "      <td>1.35600</td>\n",
       "      <td>1.7359</td>\n",
       "    </tr>\n",
       "    <tr>\n",
       "      <th>SCIEEFF</th>\n",
       "      <td>22553.0</td>\n",
       "      <td>0.157437</td>\n",
       "      <td>1.169030</td>\n",
       "      <td>-3.7565</td>\n",
       "      <td>-0.54600</td>\n",
       "      <td>0.1281</td>\n",
       "      <td>0.74230</td>\n",
       "      <td>3.2775</td>\n",
       "    </tr>\n",
       "    <tr>\n",
       "      <th>EPIST</th>\n",
       "      <td>22523.0</td>\n",
       "      <td>0.040917</td>\n",
       "      <td>0.911205</td>\n",
       "      <td>-2.7904</td>\n",
       "      <td>-0.50330</td>\n",
       "      <td>-0.1933</td>\n",
       "      <td>0.59750</td>\n",
       "      <td>2.1552</td>\n",
       "    </tr>\n",
       "    <tr>\n",
       "      <th>SCIEACT</th>\n",
       "      <td>8640.0</td>\n",
       "      <td>0.950746</td>\n",
       "      <td>0.834664</td>\n",
       "      <td>-1.7518</td>\n",
       "      <td>0.60185</td>\n",
       "      <td>0.9725</td>\n",
       "      <td>1.39595</td>\n",
       "      <td>3.3617</td>\n",
       "    </tr>\n",
       "    <tr>\n",
       "      <th>hisei</th>\n",
       "      <td>21678.0</td>\n",
       "      <td>52.592998</td>\n",
       "      <td>23.938179</td>\n",
       "      <td>11.0000</td>\n",
       "      <td>29.00000</td>\n",
       "      <td>52.0000</td>\n",
       "      <td>76.00000</td>\n",
       "      <td>89.0000</td>\n",
       "    </tr>\n",
       "    <tr>\n",
       "      <th>OUTHOURS</th>\n",
       "      <td>8273.0</td>\n",
       "      <td>23.291672</td>\n",
       "      <td>15.125959</td>\n",
       "      <td>0.0000</td>\n",
       "      <td>12.00000</td>\n",
       "      <td>20.0000</td>\n",
       "      <td>31.00000</td>\n",
       "      <td>70.0000</td>\n",
       "    </tr>\n",
       "    <tr>\n",
       "      <th>MMINS</th>\n",
       "      <td>8654.0</td>\n",
       "      <td>258.824243</td>\n",
       "      <td>136.072517</td>\n",
       "      <td>0.0000</td>\n",
       "      <td>175.00000</td>\n",
       "      <td>220.0000</td>\n",
       "      <td>350.00000</td>\n",
       "      <td>2160.0000</td>\n",
       "    </tr>\n",
       "    <tr>\n",
       "      <th>LMINS</th>\n",
       "      <td>8649.0</td>\n",
       "      <td>238.304428</td>\n",
       "      <td>118.522286</td>\n",
       "      <td>0.0000</td>\n",
       "      <td>200.00000</td>\n",
       "      <td>240.0000</td>\n",
       "      <td>240.00000</td>\n",
       "      <td>2400.0000</td>\n",
       "    </tr>\n",
       "    <tr>\n",
       "      <th>SMINS</th>\n",
       "      <td>8649.0</td>\n",
       "      <td>311.156203</td>\n",
       "      <td>192.943938</td>\n",
       "      <td>0.0000</td>\n",
       "      <td>175.00000</td>\n",
       "      <td>240.0000</td>\n",
       "      <td>480.00000</td>\n",
       "      <td>2400.0000</td>\n",
       "    </tr>\n",
       "    <tr>\n",
       "      <th>TMINS</th>\n",
       "      <td>7496.0</td>\n",
       "      <td>1781.044557</td>\n",
       "      <td>458.534359</td>\n",
       "      <td>0.0000</td>\n",
       "      <td>1575.00000</td>\n",
       "      <td>1800.0000</td>\n",
       "      <td>2000.00000</td>\n",
       "      <td>3000.0000</td>\n",
       "    </tr>\n",
       "    <tr>\n",
       "      <th>BELONG</th>\n",
       "      <td>22725.0</td>\n",
       "      <td>0.160900</td>\n",
       "      <td>0.875367</td>\n",
       "      <td>-3.1455</td>\n",
       "      <td>-0.37480</td>\n",
       "      <td>0.0248</td>\n",
       "      <td>0.66420</td>\n",
       "      <td>2.6435</td>\n",
       "    </tr>\n",
       "    <tr>\n",
       "      <th>ANXTEST</th>\n",
       "      <td>8773.0</td>\n",
       "      <td>0.359610</td>\n",
       "      <td>0.729693</td>\n",
       "      <td>-2.5050</td>\n",
       "      <td>-0.04360</td>\n",
       "      <td>0.3265</td>\n",
       "      <td>0.77540</td>\n",
       "      <td>2.5493</td>\n",
       "    </tr>\n",
       "    <tr>\n",
       "      <th>MOTIVAT</th>\n",
       "      <td>8773.0</td>\n",
       "      <td>0.952855</td>\n",
       "      <td>0.867016</td>\n",
       "      <td>-3.0877</td>\n",
       "      <td>0.24050</td>\n",
       "      <td>1.0385</td>\n",
       "      <td>1.85430</td>\n",
       "      <td>1.8543</td>\n",
       "    </tr>\n",
       "    <tr>\n",
       "      <th>COOPERATE</th>\n",
       "      <td>8773.0</td>\n",
       "      <td>0.107167</td>\n",
       "      <td>0.947400</td>\n",
       "      <td>-3.3320</td>\n",
       "      <td>-0.54530</td>\n",
       "      <td>-0.2882</td>\n",
       "      <td>0.78980</td>\n",
       "      <td>2.2879</td>\n",
       "    </tr>\n",
       "    <tr>\n",
       "      <th>CPSVALUE</th>\n",
       "      <td>8774.0</td>\n",
       "      <td>0.643781</td>\n",
       "      <td>0.893462</td>\n",
       "      <td>-2.8294</td>\n",
       "      <td>0.03330</td>\n",
       "      <td>0.5587</td>\n",
       "      <td>1.37770</td>\n",
       "      <td>2.1371</td>\n",
       "    </tr>\n",
       "    <tr>\n",
       "      <th>EMOSUPS</th>\n",
       "      <td>8778.0</td>\n",
       "      <td>0.013596</td>\n",
       "      <td>0.836426</td>\n",
       "      <td>-3.0789</td>\n",
       "      <td>-0.73900</td>\n",
       "      <td>0.1018</td>\n",
       "      <td>0.56580</td>\n",
       "      <td>1.0991</td>\n",
       "    </tr>\n",
       "    <tr>\n",
       "      <th>PERFEED</th>\n",
       "      <td>22001.0</td>\n",
       "      <td>0.610968</td>\n",
       "      <td>0.951531</td>\n",
       "      <td>-1.5255</td>\n",
       "      <td>0.01340</td>\n",
       "      <td>0.6480</td>\n",
       "      <td>1.15100</td>\n",
       "      <td>2.4994</td>\n",
       "    </tr>\n",
       "    <tr>\n",
       "      <th>ADINST</th>\n",
       "      <td>8031.0</td>\n",
       "      <td>0.520346</td>\n",
       "      <td>0.822132</td>\n",
       "      <td>-1.9656</td>\n",
       "      <td>-0.00010</td>\n",
       "      <td>0.6374</td>\n",
       "      <td>1.00060</td>\n",
       "      <td>2.0469</td>\n",
       "    </tr>\n",
       "    <tr>\n",
       "      <th>unfairteacher</th>\n",
       "      <td>8771.0</td>\n",
       "      <td>11.577129</td>\n",
       "      <td>3.820794</td>\n",
       "      <td>1.0000</td>\n",
       "      <td>9.00000</td>\n",
       "      <td>11.0000</td>\n",
       "      <td>14.00000</td>\n",
       "      <td>24.0000</td>\n",
       "    </tr>\n",
       "    <tr>\n",
       "      <th>PARED</th>\n",
       "      <td>22884.0</td>\n",
       "      <td>13.652290</td>\n",
       "      <td>2.902370</td>\n",
       "      <td>3.0000</td>\n",
       "      <td>13.00000</td>\n",
       "      <td>14.0000</td>\n",
       "      <td>15.00000</td>\n",
       "      <td>18.0000</td>\n",
       "    </tr>\n",
       "    <tr>\n",
       "      <th>CULTPOSS</th>\n",
       "      <td>22763.0</td>\n",
       "      <td>-0.032920</td>\n",
       "      <td>0.850766</td>\n",
       "      <td>-1.7072</td>\n",
       "      <td>-0.45040</td>\n",
       "      <td>0.0058</td>\n",
       "      <td>0.60930</td>\n",
       "      <td>2.4427</td>\n",
       "    </tr>\n",
       "    <tr>\n",
       "      <th>HEDRES</th>\n",
       "      <td>22828.0</td>\n",
       "      <td>-0.155159</td>\n",
       "      <td>1.095276</td>\n",
       "      <td>-4.3706</td>\n",
       "      <td>-1.06140</td>\n",
       "      <td>-0.1108</td>\n",
       "      <td>1.15630</td>\n",
       "      <td>1.1767</td>\n",
       "    </tr>\n",
       "    <tr>\n",
       "      <th>...</th>\n",
       "      <td>...</td>\n",
       "      <td>...</td>\n",
       "      <td>...</td>\n",
       "      <td>...</td>\n",
       "      <td>...</td>\n",
       "      <td>...</td>\n",
       "      <td>...</td>\n",
       "      <td>...</td>\n",
       "    </tr>\n",
       "    <tr>\n",
       "      <th>COBN_F__085800</th>\n",
       "      <td>23051.0</td>\n",
       "      <td>0.001909</td>\n",
       "      <td>0.043649</td>\n",
       "      <td>0.0000</td>\n",
       "      <td>0.00000</td>\n",
       "      <td>0.0000</td>\n",
       "      <td>0.00000</td>\n",
       "      <td>1.0000</td>\n",
       "    </tr>\n",
       "    <tr>\n",
       "      <th>COBN_F__181004</th>\n",
       "      <td>23051.0</td>\n",
       "      <td>0.047937</td>\n",
       "      <td>0.213638</td>\n",
       "      <td>0.0000</td>\n",
       "      <td>0.00000</td>\n",
       "      <td>0.0000</td>\n",
       "      <td>0.00000</td>\n",
       "      <td>1.0000</td>\n",
       "    </tr>\n",
       "    <tr>\n",
       "      <th>COBN_F__903200</th>\n",
       "      <td>23051.0</td>\n",
       "      <td>0.007288</td>\n",
       "      <td>0.085061</td>\n",
       "      <td>0.0000</td>\n",
       "      <td>0.00000</td>\n",
       "      <td>0.0000</td>\n",
       "      <td>0.00000</td>\n",
       "      <td>1.0000</td>\n",
       "    </tr>\n",
       "    <tr>\n",
       "      <th>COBN_F__939800</th>\n",
       "      <td>23051.0</td>\n",
       "      <td>0.011106</td>\n",
       "      <td>0.104800</td>\n",
       "      <td>0.0000</td>\n",
       "      <td>0.00000</td>\n",
       "      <td>0.0000</td>\n",
       "      <td>0.00000</td>\n",
       "      <td>1.0000</td>\n",
       "    </tr>\n",
       "    <tr>\n",
       "      <th>COBN_F__945800</th>\n",
       "      <td>23051.0</td>\n",
       "      <td>0.009501</td>\n",
       "      <td>0.097009</td>\n",
       "      <td>0.0000</td>\n",
       "      <td>0.00000</td>\n",
       "      <td>0.0000</td>\n",
       "      <td>0.00000</td>\n",
       "      <td>1.0000</td>\n",
       "    </tr>\n",
       "    <tr>\n",
       "      <th>COBN_M__003200</th>\n",
       "      <td>23051.0</td>\n",
       "      <td>0.241985</td>\n",
       "      <td>0.428295</td>\n",
       "      <td>0.0000</td>\n",
       "      <td>0.00000</td>\n",
       "      <td>0.0000</td>\n",
       "      <td>0.00000</td>\n",
       "      <td>1.0000</td>\n",
       "    </tr>\n",
       "    <tr>\n",
       "      <th>COBN_M__006800</th>\n",
       "      <td>23051.0</td>\n",
       "      <td>0.010412</td>\n",
       "      <td>0.101507</td>\n",
       "      <td>0.0000</td>\n",
       "      <td>0.00000</td>\n",
       "      <td>0.0000</td>\n",
       "      <td>0.00000</td>\n",
       "      <td>1.0000</td>\n",
       "    </tr>\n",
       "    <tr>\n",
       "      <th>COBN_M__007600</th>\n",
       "      <td>23051.0</td>\n",
       "      <td>0.000521</td>\n",
       "      <td>0.022811</td>\n",
       "      <td>0.0000</td>\n",
       "      <td>0.00000</td>\n",
       "      <td>0.0000</td>\n",
       "      <td>0.00000</td>\n",
       "      <td>1.0000</td>\n",
       "    </tr>\n",
       "    <tr>\n",
       "      <th>COBN_M__015200</th>\n",
       "      <td>23051.0</td>\n",
       "      <td>0.002039</td>\n",
       "      <td>0.045110</td>\n",
       "      <td>0.0000</td>\n",
       "      <td>0.00000</td>\n",
       "      <td>0.0000</td>\n",
       "      <td>0.00000</td>\n",
       "      <td>1.0000</td>\n",
       "    </tr>\n",
       "    <tr>\n",
       "      <th>COBN_M__039800</th>\n",
       "      <td>23051.0</td>\n",
       "      <td>0.280508</td>\n",
       "      <td>0.449257</td>\n",
       "      <td>0.0000</td>\n",
       "      <td>0.00000</td>\n",
       "      <td>0.0000</td>\n",
       "      <td>1.00000</td>\n",
       "      <td>1.0000</td>\n",
       "    </tr>\n",
       "    <tr>\n",
       "      <th>COBN_M__045800</th>\n",
       "      <td>23051.0</td>\n",
       "      <td>0.368270</td>\n",
       "      <td>0.482346</td>\n",
       "      <td>0.0000</td>\n",
       "      <td>0.00000</td>\n",
       "      <td>0.0000</td>\n",
       "      <td>1.00000</td>\n",
       "      <td>1.0000</td>\n",
       "    </tr>\n",
       "    <tr>\n",
       "      <th>COBN_M__060000</th>\n",
       "      <td>23051.0</td>\n",
       "      <td>0.006637</td>\n",
       "      <td>0.081202</td>\n",
       "      <td>0.0000</td>\n",
       "      <td>0.00000</td>\n",
       "      <td>0.0000</td>\n",
       "      <td>0.00000</td>\n",
       "      <td>1.0000</td>\n",
       "    </tr>\n",
       "    <tr>\n",
       "      <th>COBN_M__085800</th>\n",
       "      <td>23051.0</td>\n",
       "      <td>0.001301</td>\n",
       "      <td>0.036053</td>\n",
       "      <td>0.0000</td>\n",
       "      <td>0.00000</td>\n",
       "      <td>0.0000</td>\n",
       "      <td>0.00000</td>\n",
       "      <td>1.0000</td>\n",
       "    </tr>\n",
       "    <tr>\n",
       "      <th>COBN_M__181004</th>\n",
       "      <td>23051.0</td>\n",
       "      <td>0.049065</td>\n",
       "      <td>0.216009</td>\n",
       "      <td>0.0000</td>\n",
       "      <td>0.00000</td>\n",
       "      <td>0.0000</td>\n",
       "      <td>0.00000</td>\n",
       "      <td>1.0000</td>\n",
       "    </tr>\n",
       "    <tr>\n",
       "      <th>COBN_M__903200</th>\n",
       "      <td>23051.0</td>\n",
       "      <td>0.007071</td>\n",
       "      <td>0.083795</td>\n",
       "      <td>0.0000</td>\n",
       "      <td>0.00000</td>\n",
       "      <td>0.0000</td>\n",
       "      <td>0.00000</td>\n",
       "      <td>1.0000</td>\n",
       "    </tr>\n",
       "    <tr>\n",
       "      <th>COBN_M__939800</th>\n",
       "      <td>23051.0</td>\n",
       "      <td>0.009978</td>\n",
       "      <td>0.099392</td>\n",
       "      <td>0.0000</td>\n",
       "      <td>0.00000</td>\n",
       "      <td>0.0000</td>\n",
       "      <td>0.00000</td>\n",
       "      <td>1.0000</td>\n",
       "    </tr>\n",
       "    <tr>\n",
       "      <th>COBN_M__945800</th>\n",
       "      <td>23051.0</td>\n",
       "      <td>0.011713</td>\n",
       "      <td>0.107594</td>\n",
       "      <td>0.0000</td>\n",
       "      <td>0.00000</td>\n",
       "      <td>0.0000</td>\n",
       "      <td>0.00000</td>\n",
       "      <td>1.0000</td>\n",
       "    </tr>\n",
       "    <tr>\n",
       "      <th>COBN_S__003200</th>\n",
       "      <td>23051.0</td>\n",
       "      <td>0.263199</td>\n",
       "      <td>0.440379</td>\n",
       "      <td>0.0000</td>\n",
       "      <td>0.00000</td>\n",
       "      <td>0.0000</td>\n",
       "      <td>1.00000</td>\n",
       "      <td>1.0000</td>\n",
       "    </tr>\n",
       "    <tr>\n",
       "      <th>COBN_S__006800</th>\n",
       "      <td>23051.0</td>\n",
       "      <td>0.002429</td>\n",
       "      <td>0.049230</td>\n",
       "      <td>0.0000</td>\n",
       "      <td>0.00000</td>\n",
       "      <td>0.0000</td>\n",
       "      <td>0.00000</td>\n",
       "      <td>1.0000</td>\n",
       "    </tr>\n",
       "    <tr>\n",
       "      <th>COBN_S__007600</th>\n",
       "      <td>23051.0</td>\n",
       "      <td>0.000130</td>\n",
       "      <td>0.011408</td>\n",
       "      <td>0.0000</td>\n",
       "      <td>0.00000</td>\n",
       "      <td>0.0000</td>\n",
       "      <td>0.00000</td>\n",
       "      <td>1.0000</td>\n",
       "    </tr>\n",
       "    <tr>\n",
       "      <th>COBN_S__015200</th>\n",
       "      <td>23051.0</td>\n",
       "      <td>0.000174</td>\n",
       "      <td>0.013172</td>\n",
       "      <td>0.0000</td>\n",
       "      <td>0.00000</td>\n",
       "      <td>0.0000</td>\n",
       "      <td>0.00000</td>\n",
       "      <td>1.0000</td>\n",
       "    </tr>\n",
       "    <tr>\n",
       "      <th>COBN_S__039800</th>\n",
       "      <td>23051.0</td>\n",
       "      <td>0.325149</td>\n",
       "      <td>0.468440</td>\n",
       "      <td>0.0000</td>\n",
       "      <td>0.00000</td>\n",
       "      <td>0.0000</td>\n",
       "      <td>1.00000</td>\n",
       "      <td>1.0000</td>\n",
       "    </tr>\n",
       "    <tr>\n",
       "      <th>COBN_S__045800</th>\n",
       "      <td>23051.0</td>\n",
       "      <td>0.372695</td>\n",
       "      <td>0.483532</td>\n",
       "      <td>0.0000</td>\n",
       "      <td>0.00000</td>\n",
       "      <td>0.0000</td>\n",
       "      <td>1.00000</td>\n",
       "      <td>1.0000</td>\n",
       "    </tr>\n",
       "    <tr>\n",
       "      <th>COBN_S__060000</th>\n",
       "      <td>23051.0</td>\n",
       "      <td>0.002039</td>\n",
       "      <td>0.045110</td>\n",
       "      <td>0.0000</td>\n",
       "      <td>0.00000</td>\n",
       "      <td>0.0000</td>\n",
       "      <td>0.00000</td>\n",
       "      <td>1.0000</td>\n",
       "    </tr>\n",
       "    <tr>\n",
       "      <th>COBN_S__085800</th>\n",
       "      <td>23051.0</td>\n",
       "      <td>0.000260</td>\n",
       "      <td>0.016132</td>\n",
       "      <td>0.0000</td>\n",
       "      <td>0.00000</td>\n",
       "      <td>0.0000</td>\n",
       "      <td>0.00000</td>\n",
       "      <td>1.0000</td>\n",
       "    </tr>\n",
       "    <tr>\n",
       "      <th>COBN_S__181004</th>\n",
       "      <td>23051.0</td>\n",
       "      <td>0.006551</td>\n",
       "      <td>0.080673</td>\n",
       "      <td>0.0000</td>\n",
       "      <td>0.00000</td>\n",
       "      <td>0.0000</td>\n",
       "      <td>0.00000</td>\n",
       "      <td>1.0000</td>\n",
       "    </tr>\n",
       "    <tr>\n",
       "      <th>COBN_S__903200</th>\n",
       "      <td>23051.0</td>\n",
       "      <td>0.002299</td>\n",
       "      <td>0.047896</td>\n",
       "      <td>0.0000</td>\n",
       "      <td>0.00000</td>\n",
       "      <td>0.0000</td>\n",
       "      <td>0.00000</td>\n",
       "      <td>1.0000</td>\n",
       "    </tr>\n",
       "    <tr>\n",
       "      <th>COBN_S__939800</th>\n",
       "      <td>23051.0</td>\n",
       "      <td>0.007765</td>\n",
       "      <td>0.087781</td>\n",
       "      <td>0.0000</td>\n",
       "      <td>0.00000</td>\n",
       "      <td>0.0000</td>\n",
       "      <td>0.00000</td>\n",
       "      <td>1.0000</td>\n",
       "    </tr>\n",
       "    <tr>\n",
       "      <th>COBN_S__945800</th>\n",
       "      <td>23051.0</td>\n",
       "      <td>0.001996</td>\n",
       "      <td>0.044628</td>\n",
       "      <td>0.0000</td>\n",
       "      <td>0.00000</td>\n",
       "      <td>0.0000</td>\n",
       "      <td>0.00000</td>\n",
       "      <td>1.0000</td>\n",
       "    </tr>\n",
       "    <tr>\n",
       "      <th>ST022Q01TA__2.0</th>\n",
       "      <td>23051.0</td>\n",
       "      <td>0.140601</td>\n",
       "      <td>0.347617</td>\n",
       "      <td>0.0000</td>\n",
       "      <td>0.00000</td>\n",
       "      <td>0.0000</td>\n",
       "      <td>0.00000</td>\n",
       "      <td>1.0000</td>\n",
       "    </tr>\n",
       "  </tbody>\n",
       "</table>\n",
       "<p>102 rows × 8 columns</p>\n",
       "</div>"
      ],
      "text/plain": [
       "                   count         mean         std      min         25%  \\\n",
       "DISCLISCI        22114.0     0.377563    0.945654  -2.4162    -0.26830   \n",
       "TEACHSUP         22089.0     0.474632    0.807812  -2.7195    -0.11640   \n",
       "IBTEACH          22102.0     0.544360    0.904051  -3.3405     0.00760   \n",
       "TDTEACH          22014.0     0.432593    1.001452  -2.4476    -0.14950   \n",
       "ENVAWARE         22662.0     0.400594    1.256571  -3.3765    -0.38640   \n",
       "ENVOPT            8700.0     0.842075    1.225005  -1.7932     0.09290   \n",
       "JOYSCIE          22611.0     0.512675    0.999633  -2.1154    -0.13790   \n",
       "INTBRSCI          8500.0     0.594906    0.740558  -2.4981     0.23350   \n",
       "INSTSCIE         22531.0     0.598529    0.900164  -1.9301     0.01250   \n",
       "SCIEEFF          22553.0     0.157437    1.169030  -3.7565    -0.54600   \n",
       "EPIST            22523.0     0.040917    0.911205  -2.7904    -0.50330   \n",
       "SCIEACT           8640.0     0.950746    0.834664  -1.7518     0.60185   \n",
       "hisei            21678.0    52.592998   23.938179  11.0000    29.00000   \n",
       "OUTHOURS          8273.0    23.291672   15.125959   0.0000    12.00000   \n",
       "MMINS             8654.0   258.824243  136.072517   0.0000   175.00000   \n",
       "LMINS             8649.0   238.304428  118.522286   0.0000   200.00000   \n",
       "SMINS             8649.0   311.156203  192.943938   0.0000   175.00000   \n",
       "TMINS             7496.0  1781.044557  458.534359   0.0000  1575.00000   \n",
       "BELONG           22725.0     0.160900    0.875367  -3.1455    -0.37480   \n",
       "ANXTEST           8773.0     0.359610    0.729693  -2.5050    -0.04360   \n",
       "MOTIVAT           8773.0     0.952855    0.867016  -3.0877     0.24050   \n",
       "COOPERATE         8773.0     0.107167    0.947400  -3.3320    -0.54530   \n",
       "CPSVALUE          8774.0     0.643781    0.893462  -2.8294     0.03330   \n",
       "EMOSUPS           8778.0     0.013596    0.836426  -3.0789    -0.73900   \n",
       "PERFEED          22001.0     0.610968    0.951531  -1.5255     0.01340   \n",
       "ADINST            8031.0     0.520346    0.822132  -1.9656    -0.00010   \n",
       "unfairteacher     8771.0    11.577129    3.820794   1.0000     9.00000   \n",
       "PARED            22884.0    13.652290    2.902370   3.0000    13.00000   \n",
       "CULTPOSS         22763.0    -0.032920    0.850766  -1.7072    -0.45040   \n",
       "HEDRES           22828.0    -0.155159    1.095276  -4.3706    -1.06140   \n",
       "...                  ...          ...         ...      ...         ...   \n",
       "COBN_F__085800   23051.0     0.001909    0.043649   0.0000     0.00000   \n",
       "COBN_F__181004   23051.0     0.047937    0.213638   0.0000     0.00000   \n",
       "COBN_F__903200   23051.0     0.007288    0.085061   0.0000     0.00000   \n",
       "COBN_F__939800   23051.0     0.011106    0.104800   0.0000     0.00000   \n",
       "COBN_F__945800   23051.0     0.009501    0.097009   0.0000     0.00000   \n",
       "COBN_M__003200   23051.0     0.241985    0.428295   0.0000     0.00000   \n",
       "COBN_M__006800   23051.0     0.010412    0.101507   0.0000     0.00000   \n",
       "COBN_M__007600   23051.0     0.000521    0.022811   0.0000     0.00000   \n",
       "COBN_M__015200   23051.0     0.002039    0.045110   0.0000     0.00000   \n",
       "COBN_M__039800   23051.0     0.280508    0.449257   0.0000     0.00000   \n",
       "COBN_M__045800   23051.0     0.368270    0.482346   0.0000     0.00000   \n",
       "COBN_M__060000   23051.0     0.006637    0.081202   0.0000     0.00000   \n",
       "COBN_M__085800   23051.0     0.001301    0.036053   0.0000     0.00000   \n",
       "COBN_M__181004   23051.0     0.049065    0.216009   0.0000     0.00000   \n",
       "COBN_M__903200   23051.0     0.007071    0.083795   0.0000     0.00000   \n",
       "COBN_M__939800   23051.0     0.009978    0.099392   0.0000     0.00000   \n",
       "COBN_M__945800   23051.0     0.011713    0.107594   0.0000     0.00000   \n",
       "COBN_S__003200   23051.0     0.263199    0.440379   0.0000     0.00000   \n",
       "COBN_S__006800   23051.0     0.002429    0.049230   0.0000     0.00000   \n",
       "COBN_S__007600   23051.0     0.000130    0.011408   0.0000     0.00000   \n",
       "COBN_S__015200   23051.0     0.000174    0.013172   0.0000     0.00000   \n",
       "COBN_S__039800   23051.0     0.325149    0.468440   0.0000     0.00000   \n",
       "COBN_S__045800   23051.0     0.372695    0.483532   0.0000     0.00000   \n",
       "COBN_S__060000   23051.0     0.002039    0.045110   0.0000     0.00000   \n",
       "COBN_S__085800   23051.0     0.000260    0.016132   0.0000     0.00000   \n",
       "COBN_S__181004   23051.0     0.006551    0.080673   0.0000     0.00000   \n",
       "COBN_S__903200   23051.0     0.002299    0.047896   0.0000     0.00000   \n",
       "COBN_S__939800   23051.0     0.007765    0.087781   0.0000     0.00000   \n",
       "COBN_S__945800   23051.0     0.001996    0.044628   0.0000     0.00000   \n",
       "ST022Q01TA__2.0  23051.0     0.140601    0.347617   0.0000     0.00000   \n",
       "\n",
       "                       50%         75%        max  \n",
       "DISCLISCI           0.4046     1.04380     1.8837  \n",
       "TEACHSUP            0.4922     1.44750     1.4475  \n",
       "IBTEACH             0.5268     1.01015     3.1829  \n",
       "TDTEACH             0.4505     1.09750     2.0781  \n",
       "ENVAWARE            0.3113     1.08230     3.2932  \n",
       "ENVOPT              0.8249     1.57790     3.0127  \n",
       "JOYSCIE             0.5094     1.12250     2.1635  \n",
       "INTBRSCI            0.5305     0.97135     2.6033  \n",
       "INSTSCIE            0.3708     1.35600     1.7359  \n",
       "SCIEEFF             0.1281     0.74230     3.2775  \n",
       "EPIST              -0.1933     0.59750     2.1552  \n",
       "SCIEACT             0.9725     1.39595     3.3617  \n",
       "hisei              52.0000    76.00000    89.0000  \n",
       "OUTHOURS           20.0000    31.00000    70.0000  \n",
       "MMINS             220.0000   350.00000  2160.0000  \n",
       "LMINS             240.0000   240.00000  2400.0000  \n",
       "SMINS             240.0000   480.00000  2400.0000  \n",
       "TMINS            1800.0000  2000.00000  3000.0000  \n",
       "BELONG              0.0248     0.66420     2.6435  \n",
       "ANXTEST             0.3265     0.77540     2.5493  \n",
       "MOTIVAT             1.0385     1.85430     1.8543  \n",
       "COOPERATE          -0.2882     0.78980     2.2879  \n",
       "CPSVALUE            0.5587     1.37770     2.1371  \n",
       "EMOSUPS             0.1018     0.56580     1.0991  \n",
       "PERFEED             0.6480     1.15100     2.4994  \n",
       "ADINST              0.6374     1.00060     2.0469  \n",
       "unfairteacher      11.0000    14.00000    24.0000  \n",
       "PARED              14.0000    15.00000    18.0000  \n",
       "CULTPOSS            0.0058     0.60930     2.4427  \n",
       "HEDRES             -0.1108     1.15630     1.1767  \n",
       "...                    ...         ...        ...  \n",
       "COBN_F__085800      0.0000     0.00000     1.0000  \n",
       "COBN_F__181004      0.0000     0.00000     1.0000  \n",
       "COBN_F__903200      0.0000     0.00000     1.0000  \n",
       "COBN_F__939800      0.0000     0.00000     1.0000  \n",
       "COBN_F__945800      0.0000     0.00000     1.0000  \n",
       "COBN_M__003200      0.0000     0.00000     1.0000  \n",
       "COBN_M__006800      0.0000     0.00000     1.0000  \n",
       "COBN_M__007600      0.0000     0.00000     1.0000  \n",
       "COBN_M__015200      0.0000     0.00000     1.0000  \n",
       "COBN_M__039800      0.0000     1.00000     1.0000  \n",
       "COBN_M__045800      0.0000     1.00000     1.0000  \n",
       "COBN_M__060000      0.0000     0.00000     1.0000  \n",
       "COBN_M__085800      0.0000     0.00000     1.0000  \n",
       "COBN_M__181004      0.0000     0.00000     1.0000  \n",
       "COBN_M__903200      0.0000     0.00000     1.0000  \n",
       "COBN_M__939800      0.0000     0.00000     1.0000  \n",
       "COBN_M__945800      0.0000     0.00000     1.0000  \n",
       "COBN_S__003200      0.0000     1.00000     1.0000  \n",
       "COBN_S__006800      0.0000     0.00000     1.0000  \n",
       "COBN_S__007600      0.0000     0.00000     1.0000  \n",
       "COBN_S__015200      0.0000     0.00000     1.0000  \n",
       "COBN_S__039800      0.0000     1.00000     1.0000  \n",
       "COBN_S__045800      0.0000     1.00000     1.0000  \n",
       "COBN_S__060000      0.0000     0.00000     1.0000  \n",
       "COBN_S__085800      0.0000     0.00000     1.0000  \n",
       "COBN_S__181004      0.0000     0.00000     1.0000  \n",
       "COBN_S__903200      0.0000     0.00000     1.0000  \n",
       "COBN_S__939800      0.0000     0.00000     1.0000  \n",
       "COBN_S__945800      0.0000     0.00000     1.0000  \n",
       "ST022Q01TA__2.0     0.0000     0.00000     1.0000  \n",
       "\n",
       "[102 rows x 8 columns]"
      ]
     },
     "execution_count": 7,
     "metadata": {},
     "output_type": "execute_result"
    }
   ],
   "source": [
    "X.describe().T #vemos cómo es X"
   ]
  },
  {
   "cell_type": "code",
   "execution_count": 104,
   "metadata": {
    "scrolled": true
   },
   "outputs": [
    {
     "data": {
      "text/plain": [
       "(6209, 102)"
      ]
     },
     "execution_count": 104,
     "metadata": {},
     "output_type": "execute_result"
    }
   ],
   "source": [
    "X.dropna(axis=0, inplace=True) #sacamos filas que tienen NaN\n",
    "X.shape"
   ]
  },
  {
   "cell_type": "code",
   "execution_count": 105,
   "metadata": {},
   "outputs": [],
   "source": [
    "listado=X.index.tolist()"
   ]
  },
  {
   "cell_type": "code",
   "execution_count": 106,
   "metadata": {},
   "outputs": [],
   "source": [
    "y=y[listado] #sacamos las mismas filas en y "
   ]
  },
  {
   "cell_type": "code",
   "execution_count": 107,
   "metadata": {},
   "outputs": [
    {
     "data": {
      "text/plain": [
       "(6209,)"
      ]
     },
     "execution_count": 107,
     "metadata": {},
     "output_type": "execute_result"
    }
   ],
   "source": [
    "y.shape"
   ]
  },
  {
   "cell_type": "code",
   "execution_count": 12,
   "metadata": {},
   "outputs": [
    {
     "name": "stdout",
     "output_type": "stream",
     "text": [
      "2    0.733451\n",
      "1    0.266549\n",
      "Name: score_range2, dtype: float64\n"
     ]
    }
   ],
   "source": [
    "print(y.value_counts(normalize=True))"
   ]
  },
  {
   "cell_type": "code",
   "execution_count": null,
   "metadata": {},
   "outputs": [],
   "source": []
  },
  {
   "cell_type": "code",
   "execution_count": 126,
   "metadata": {},
   "outputs": [],
   "source": [
    "#X=X.drop([\"OUTHOURS\",\"hisei\",\"MMINS\", \"LMINS\",\"SMINS\",\"TMINS\", \"unfairteacher\", \"PARED\"], axis=1 ) \n",
    "#opción de sacar no normalizadas"
   ]
  },
  {
   "cell_type": "code",
   "execution_count": 168,
   "metadata": {},
   "outputs": [],
   "source": [
    "X_train, X_test, y_train, y_test = train_test_split(X, y, stratify=y, random_state=12)"
   ]
  },
  {
   "cell_type": "markdown",
   "metadata": {},
   "source": [
    "## Standarización (opcionalmente usar _scaled o no)"
   ]
  },
  {
   "cell_type": "code",
   "execution_count": 169,
   "metadata": {},
   "outputs": [
    {
     "name": "stderr",
     "output_type": "stream",
     "text": [
      "C:\\Users\\an\\AppData\\Local\\Continuum\\anaconda3\\lib\\site-packages\\sklearn\\preprocessing\\data.py:625: DataConversionWarning: Data with input dtype uint8, float64 were all converted to float64 by StandardScaler.\n",
      "  return self.partial_fit(X, y)\n",
      "C:\\Users\\an\\AppData\\Local\\Continuum\\anaconda3\\lib\\site-packages\\sklearn\\base.py:462: DataConversionWarning: Data with input dtype uint8, float64 were all converted to float64 by StandardScaler.\n",
      "  return self.fit(X, **fit_params).transform(X)\n",
      "C:\\Users\\an\\AppData\\Local\\Continuum\\anaconda3\\lib\\site-packages\\ipykernel_launcher.py:5: DataConversionWarning: Data with input dtype uint8, float64 were all converted to float64 by StandardScaler.\n",
      "  \"\"\"\n"
     ]
    }
   ],
   "source": [
    "# Utilizamos sklearn para estandarizar la matriz de features\n",
    "scaler = StandardScaler()\n",
    "X_train_scaled = scaler.fit_transform(X_train)\n",
    "#X_train_scaled = pd.DataFrame(scaler.fit_transform(X_train[\"OUTHOURS\",\"hisei\"]))\n",
    "X_test_scaled = scaler.transform(X_test)"
   ]
  },
  {
   "cell_type": "markdown",
   "metadata": {},
   "source": [
    "## KNN"
   ]
  },
  {
   "cell_type": "code",
   "execution_count": 170,
   "metadata": {},
   "outputs": [],
   "source": [
    "def kfold(i):\n",
    "    kf = KFold(n_splits=5, shuffle=True, random_state=12)\n",
    "    model = KNeighborsClassifier(n_neighbors=i)\n",
    "    cv_scores = cross_val_score(model, X_train_scaled, y_train, cv=kf)\n",
    "    dict_row_score = {'score_medio':np.mean(cv_scores),\\\n",
    "                      'score_std':np.std(cv_scores),'n_neighbours':i}\n",
    "    return dict_row_score"
   ]
  },
  {
   "cell_type": "code",
   "execution_count": 171,
   "metadata": {},
   "outputs": [],
   "source": [
    "scores_para_df_standar = []\n",
    "for x in range(1,20):\n",
    "    scores_para_df_standar.append(kfold(x))\n",
    "\n",
    "df_scores_standar = pd.DataFrame(scores_para_df_standar)\n",
    "best_k = df_scores_standar.loc[df_scores_standar.score_medio ==\\\n",
    "                               df_scores_standar.score_medio.max(),'n_neighbours'].values\n",
    "best_k = best_k[0]\n",
    "best_k"
   ]
  },
  {
   "cell_type": "code",
   "execution_count": 173,
   "metadata": {},
   "outputs": [
    {
     "data": {
      "text/plain": [
       "array([[210, 204],\n",
       "       [173, 966]], dtype=int64)"
      ]
     },
     "execution_count": 173,
     "metadata": {},
     "output_type": "execute_result"
    }
   ],
   "source": [
    "#Usamos el mejor k para el modelo\n",
    "modelfinal = KNeighborsClassifier(n_neighbors=best_k)\n",
    "modelfinal.fit(X_train,y_train)\n",
    "y_pred = modelfinal.predict(X_test) #Está usando la media y el desvió estándar del train, y no del test, así no hay data leakage\n",
    "confusion_matrix(y_test, y_pred)"
   ]
  },
  {
   "cell_type": "code",
   "execution_count": 205,
   "metadata": {},
   "outputs": [
    {
     "data": {
      "image/png": "[encoded data removed]",
      "text/plain": [
       "<Figure size 432x288 with 2 Axes>"
      ]
     },
     "metadata": {
      "needs_background": "light"
     },
     "output_type": "display_data"
    }
   ],
   "source": [
    "# Matriz de confusión\n",
    "sns.heatmap(confusion_matrix(y_test, y_pred), annot=True, xticklabels=[\"Desaprobado\", \"Aprobado\"], yticklabels=[\"Desaprobado\", \"Aprobado\"])\n",
    "plt.ylabel('Verdaderos')\n",
    "plt.xlabel('Valores predichos');"
   ]
  },
  {
   "cell_type": "markdown",
   "metadata": {},
   "source": [
    "## Métricas KNN"
   ]
  },
  {
   "cell_type": "code",
   "execution_count": 208,
   "metadata": {},
   "outputs": [],
   "source": [
    "from sklearn.metrics import recall_score\n",
    "from sklearn.metrics import precision_score\n",
    "from sklearn.metrics import f1_score\n",
    "from sklearn.metrics import roc_curve, auc\n",
    "from sklearn.metrics import accuracy_score"
   ]
  },
  {
   "cell_type": "code",
   "execution_count": 237,
   "metadata": {},
   "outputs": [
    {
     "name": "stdout",
     "output_type": "stream",
     "text": [
      "Métricas de predicción para test KNN\n",
      "Accuracy: 75.72%\n",
      "Recall: 50.72%\n",
      "Precisión: 54.83%\n",
      "F1Score: 52.70%\n"
     ]
    }
   ],
   "source": [
    "print('Métricas de predicción para test KNN')\n",
    "print(\"Accuracy:\",'{:.2%}'.format(metrics.accuracy_score(y_test, y_pred)))\n",
    "print(\"Recall:\",'{:.2%}'.format(metrics.recall_score(y_test, y_pred)))\n",
    "print(\"Precisión:\",'{:.2%}'.format(metrics.precision_score(y_test, y_pred)))\n",
    "print(\"F1Score:\",'{:.2%}'.format(f1_score(y_test,y_pred)))"
   ]
  },
  {
   "cell_type": "markdown",
   "metadata": {},
   "source": [
    "## Regresión Logistíca"
   ]
  },
  {
   "cell_type": "code",
   "execution_count": 61,
   "metadata": {},
   "outputs": [],
   "source": [
    "from sklearn import linear_model"
   ]
  },
  {
   "cell_type": "code",
   "execution_count": 185,
   "metadata": {},
   "outputs": [
    {
     "name": "stderr",
     "output_type": "stream",
     "text": [
      "C:\\Users\\an\\AppData\\Local\\Continuum\\anaconda3\\lib\\site-packages\\sklearn\\linear_model\\logistic.py:433: FutureWarning: Default solver will be changed to 'lbfgs' in 0.22. Specify a solver to silence this warning.\n",
      "  FutureWarning)\n"
     ]
    }
   ],
   "source": [
    "lg = linear_model.LogisticRegression()\n",
    "lg.fit(X_train, y_train)\n",
    "y_pred_train = lg.predict(X_train)\n",
    "y_predLR = lg.predict(X_test)"
   ]
  },
  {
   "cell_type": "code",
   "execution_count": 204,
   "metadata": {},
   "outputs": [
    {
     "data": {
      "image/png": "[encoded data removed]",
      "text/plain": [
       "<Figure size 432x288 with 2 Axes>"
      ]
     },
     "metadata": {
      "needs_background": "light"
     },
     "output_type": "display_data"
    }
   ],
   "source": [
    "# Matriz de confusión:\n",
    "confusion_matrix(y_test, y_predLR)\n",
    "sns.heatmap(confusion_matrix(y_test, y_predLR), annot=True, xticklabels=[\"Desaprobado\", \"Aprobado\"], yticklabels=[\"Desaprobado\", \"Aprobado\"])\n",
    "plt.ylabel('Verdaderos')\n",
    "plt.xlabel('Predichos');"
   ]
  },
  {
   "cell_type": "markdown",
   "metadata": {},
   "source": [
    "## Métricas regresión Logística"
   ]
  },
  {
   "cell_type": "code",
   "execution_count": 235,
   "metadata": {},
   "outputs": [
    {
     "name": "stdout",
     "output_type": "stream",
     "text": [
      "Métricas de predicción para test Regresión Logística\n",
      "Accuracy: 82.29%\n",
      "Recall: 60.87%\n",
      "Precisión: 69.04%\n",
      "F1Score: 64.70%\n"
     ]
    }
   ],
   "source": [
    "print('Métricas de predicción para test Regresión Logística')\n",
    "print(\"Accuracy:\",'{:.2%}'.format(metrics.accuracy_score(y_test, y_predLR)))\n",
    "print(\"Recall:\",'{:.2%}'.format(metrics.recall_score(y_test, y_predLR)))\n",
    "print(\"Precisión:\",'{:.2%}'.format(metrics.precision_score(y_test, y_predLR)))\n",
    "print(\"F1Score:\",'{:.2%}'.format(f1_score(y_test,y_predLR)))"
   ]
  },
  {
   "cell_type": "code",
   "execution_count": 244,
   "metadata": {},
   "outputs": [
    {
     "data": {
      "text/plain": [
       "0.24525709050654657"
      ]
     },
     "execution_count": 244,
     "metadata": {},
     "output_type": "execute_result"
    }
   ],
   "source": [
    "fpr, tpr, thresholds = metrics.roc_curve(y_test,y_predLR, pos_label=1)\n",
    "auc(fpr, tpr)"
   ]
  },
  {
   "cell_type": "code",
   "execution_count": 209,
   "metadata": {},
   "outputs": [
    {
     "ename": "ValueError",
     "evalue": "Can only tuple-index with a MultiIndex",
     "output_type": "error",
     "traceback": [
      "\u001b[1;31m---------------------------------------------------------------------------\u001b[0m",
      "\u001b[1;31mValueError\u001b[0m                                Traceback (most recent call last)",
      "\u001b[1;32m<ipython-input-209-e00fc28c999f>\u001b[0m in \u001b[0;36m<module>\u001b[1;34m\u001b[0m\n\u001b[0;32m      3\u001b[0m \u001b[0mroc_auc\u001b[0m \u001b[1;33m=\u001b[0m \u001b[0mdict\u001b[0m\u001b[1;33m(\u001b[0m\u001b[1;33m)\u001b[0m\u001b[1;33m\u001b[0m\u001b[1;33m\u001b[0m\u001b[0m\n\u001b[0;32m      4\u001b[0m \u001b[1;32mfor\u001b[0m \u001b[0mi\u001b[0m \u001b[1;32min\u001b[0m \u001b[0mrange\u001b[0m\u001b[1;33m(\u001b[0m\u001b[1;36m2\u001b[0m\u001b[1;33m)\u001b[0m\u001b[1;33m:\u001b[0m\u001b[1;33m\u001b[0m\u001b[1;33m\u001b[0m\u001b[0m\n\u001b[1;32m----> 5\u001b[1;33m     \u001b[0mfpr\u001b[0m\u001b[1;33m[\u001b[0m\u001b[0mi\u001b[0m\u001b[1;33m]\u001b[0m\u001b[1;33m,\u001b[0m \u001b[0mtpr\u001b[0m\u001b[1;33m[\u001b[0m\u001b[0mi\u001b[0m\u001b[1;33m]\u001b[0m\u001b[1;33m,\u001b[0m \u001b[0m_\u001b[0m \u001b[1;33m=\u001b[0m \u001b[0mroc_curve\u001b[0m\u001b[1;33m(\u001b[0m\u001b[0my_test\u001b[0m\u001b[1;33m[\u001b[0m\u001b[1;33m:\u001b[0m\u001b[1;33m,\u001b[0m \u001b[0mi\u001b[0m\u001b[1;33m]\u001b[0m\u001b[1;33m,\u001b[0m \u001b[0my_score\u001b[0m\u001b[1;33m[\u001b[0m\u001b[1;33m:\u001b[0m\u001b[1;33m,\u001b[0m \u001b[0mi\u001b[0m\u001b[1;33m]\u001b[0m\u001b[1;33m)\u001b[0m\u001b[1;33m\u001b[0m\u001b[1;33m\u001b[0m\u001b[0m\n\u001b[0m\u001b[0;32m      6\u001b[0m     \u001b[0mroc_auc\u001b[0m\u001b[1;33m[\u001b[0m\u001b[0mi\u001b[0m\u001b[1;33m]\u001b[0m \u001b[1;33m=\u001b[0m \u001b[0mauc\u001b[0m\u001b[1;33m(\u001b[0m\u001b[0mfpr\u001b[0m\u001b[1;33m[\u001b[0m\u001b[0mi\u001b[0m\u001b[1;33m]\u001b[0m\u001b[1;33m,\u001b[0m \u001b[0mtpr\u001b[0m\u001b[1;33m[\u001b[0m\u001b[0mi\u001b[0m\u001b[1;33m]\u001b[0m\u001b[1;33m)\u001b[0m\u001b[1;33m\u001b[0m\u001b[1;33m\u001b[0m\u001b[0m\n\u001b[0;32m      7\u001b[0m \u001b[1;33m\u001b[0m\u001b[0m\n",
      "\u001b[1;32m~\\Anaconda3\\lib\\site-packages\\pandas\\core\\series.py\u001b[0m in \u001b[0;36m__getitem__\u001b[1;34m(self, key)\u001b[0m\n\u001b[0;32m    909\u001b[0m             \u001b[0mkey\u001b[0m \u001b[1;33m=\u001b[0m \u001b[0mcheck_bool_indexer\u001b[0m\u001b[1;33m(\u001b[0m\u001b[0mself\u001b[0m\u001b[1;33m.\u001b[0m\u001b[0mindex\u001b[0m\u001b[1;33m,\u001b[0m \u001b[0mkey\u001b[0m\u001b[1;33m)\u001b[0m\u001b[1;33m\u001b[0m\u001b[1;33m\u001b[0m\u001b[0m\n\u001b[0;32m    910\u001b[0m \u001b[1;33m\u001b[0m\u001b[0m\n\u001b[1;32m--> 911\u001b[1;33m         \u001b[1;32mreturn\u001b[0m \u001b[0mself\u001b[0m\u001b[1;33m.\u001b[0m\u001b[0m_get_with\u001b[0m\u001b[1;33m(\u001b[0m\u001b[0mkey\u001b[0m\u001b[1;33m)\u001b[0m\u001b[1;33m\u001b[0m\u001b[1;33m\u001b[0m\u001b[0m\n\u001b[0m\u001b[0;32m    912\u001b[0m \u001b[1;33m\u001b[0m\u001b[0m\n\u001b[0;32m    913\u001b[0m     \u001b[1;32mdef\u001b[0m \u001b[0m_get_with\u001b[0m\u001b[1;33m(\u001b[0m\u001b[0mself\u001b[0m\u001b[1;33m,\u001b[0m \u001b[0mkey\u001b[0m\u001b[1;33m)\u001b[0m\u001b[1;33m:\u001b[0m\u001b[1;33m\u001b[0m\u001b[1;33m\u001b[0m\u001b[0m\n",
      "\u001b[1;32m~\\Anaconda3\\lib\\site-packages\\pandas\\core\\series.py\u001b[0m in \u001b[0;36m_get_with\u001b[1;34m(self, key)\u001b[0m\n\u001b[0;32m    921\u001b[0m         \u001b[1;32melif\u001b[0m \u001b[0misinstance\u001b[0m\u001b[1;33m(\u001b[0m\u001b[0mkey\u001b[0m\u001b[1;33m,\u001b[0m \u001b[0mtuple\u001b[0m\u001b[1;33m)\u001b[0m\u001b[1;33m:\u001b[0m\u001b[1;33m\u001b[0m\u001b[1;33m\u001b[0m\u001b[0m\n\u001b[0;32m    922\u001b[0m             \u001b[1;32mtry\u001b[0m\u001b[1;33m:\u001b[0m\u001b[1;33m\u001b[0m\u001b[1;33m\u001b[0m\u001b[0m\n\u001b[1;32m--> 923\u001b[1;33m                 \u001b[1;32mreturn\u001b[0m \u001b[0mself\u001b[0m\u001b[1;33m.\u001b[0m\u001b[0m_get_values_tuple\u001b[0m\u001b[1;33m(\u001b[0m\u001b[0mkey\u001b[0m\u001b[1;33m)\u001b[0m\u001b[1;33m\u001b[0m\u001b[1;33m\u001b[0m\u001b[0m\n\u001b[0m\u001b[0;32m    924\u001b[0m             \u001b[1;32mexcept\u001b[0m \u001b[0mException\u001b[0m\u001b[1;33m:\u001b[0m\u001b[1;33m\u001b[0m\u001b[1;33m\u001b[0m\u001b[0m\n\u001b[0;32m    925\u001b[0m                 \u001b[1;32mif\u001b[0m \u001b[0mlen\u001b[0m\u001b[1;33m(\u001b[0m\u001b[0mkey\u001b[0m\u001b[1;33m)\u001b[0m \u001b[1;33m==\u001b[0m \u001b[1;36m1\u001b[0m\u001b[1;33m:\u001b[0m\u001b[1;33m\u001b[0m\u001b[1;33m\u001b[0m\u001b[0m\n",
      "\u001b[1;32m~\\Anaconda3\\lib\\site-packages\\pandas\\core\\series.py\u001b[0m in \u001b[0;36m_get_values_tuple\u001b[1;34m(self, key)\u001b[0m\n\u001b[0;32m    966\u001b[0m \u001b[1;33m\u001b[0m\u001b[0m\n\u001b[0;32m    967\u001b[0m         \u001b[1;32mif\u001b[0m \u001b[1;32mnot\u001b[0m \u001b[0misinstance\u001b[0m\u001b[1;33m(\u001b[0m\u001b[0mself\u001b[0m\u001b[1;33m.\u001b[0m\u001b[0mindex\u001b[0m\u001b[1;33m,\u001b[0m \u001b[0mMultiIndex\u001b[0m\u001b[1;33m)\u001b[0m\u001b[1;33m:\u001b[0m\u001b[1;33m\u001b[0m\u001b[1;33m\u001b[0m\u001b[0m\n\u001b[1;32m--> 968\u001b[1;33m             \u001b[1;32mraise\u001b[0m \u001b[0mValueError\u001b[0m\u001b[1;33m(\u001b[0m\u001b[1;34m'Can only tuple-index with a MultiIndex'\u001b[0m\u001b[1;33m)\u001b[0m\u001b[1;33m\u001b[0m\u001b[1;33m\u001b[0m\u001b[0m\n\u001b[0m\u001b[0;32m    969\u001b[0m \u001b[1;33m\u001b[0m\u001b[0m\n\u001b[0;32m    970\u001b[0m         \u001b[1;31m# If key is contained, would have returned by now\u001b[0m\u001b[1;33m\u001b[0m\u001b[1;33m\u001b[0m\u001b[1;33m\u001b[0m\u001b[0m\n",
      "\u001b[1;31mValueError\u001b[0m: Can only tuple-index with a MultiIndex"
     ]
    }
   ],
   "source": [
    "fpr = dict()\n",
    "tpr = dict()\n",
    "roc_auc = dict()\n",
    "for i in range(2):\n",
    "    fpr[i], tpr[i], _ = roc_curve(y_test[:, i], y_score[:, i])\n",
    "    roc_auc[i] = auc(fpr[i], tpr[i])\n",
    "\n",
    "# Compute micro-average ROC curve and ROC area\n",
    "fpr[\"micro\"], tpr[\"micro\"], _ = roc_curve(y_test.ravel(), y_predLR.ravel())\n",
    "roc_auc[\"micro\"] = auc(fpr[\"micro\"], tpr[\"micro\"])"
   ]
  },
  {
   "cell_type": "code",
   "execution_count": 245,
   "metadata": {},
   "outputs": [
    {
     "ename": "NameError",
     "evalue": "name 'roc_auc' is not defined",
     "output_type": "error",
     "traceback": [
      "\u001b[1;31m---------------------------------------------------------------------------\u001b[0m",
      "\u001b[1;31mNameError\u001b[0m                                 Traceback (most recent call last)",
      "\u001b[1;32m<ipython-input-245-8f1cfc1b7723>\u001b[0m in \u001b[0;36m<module>\u001b[1;34m\u001b[0m\n\u001b[0;32m      2\u001b[0m \u001b[0mlw\u001b[0m \u001b[1;33m=\u001b[0m \u001b[1;36m2\u001b[0m\u001b[1;33m\u001b[0m\u001b[1;33m\u001b[0m\u001b[0m\n\u001b[0;32m      3\u001b[0m plt.plot(fpr[2], tpr[2], color='darkorange',\n\u001b[1;32m----> 4\u001b[1;33m          lw=lw, label='ROC curve (area = %0.2f)' % roc_auc[2])\n\u001b[0m\u001b[0;32m      5\u001b[0m \u001b[0mplt\u001b[0m\u001b[1;33m.\u001b[0m\u001b[0mplot\u001b[0m\u001b[1;33m(\u001b[0m\u001b[1;33m[\u001b[0m\u001b[1;36m0\u001b[0m\u001b[1;33m,\u001b[0m \u001b[1;36m1\u001b[0m\u001b[1;33m]\u001b[0m\u001b[1;33m,\u001b[0m \u001b[1;33m[\u001b[0m\u001b[1;36m0\u001b[0m\u001b[1;33m,\u001b[0m \u001b[1;36m1\u001b[0m\u001b[1;33m]\u001b[0m\u001b[1;33m,\u001b[0m \u001b[0mcolor\u001b[0m\u001b[1;33m=\u001b[0m\u001b[1;34m'navy'\u001b[0m\u001b[1;33m,\u001b[0m \u001b[0mlw\u001b[0m\u001b[1;33m=\u001b[0m\u001b[0mlw\u001b[0m\u001b[1;33m,\u001b[0m \u001b[0mlinestyle\u001b[0m\u001b[1;33m=\u001b[0m\u001b[1;34m'--'\u001b[0m\u001b[1;33m)\u001b[0m\u001b[1;33m\u001b[0m\u001b[1;33m\u001b[0m\u001b[0m\n\u001b[0;32m      6\u001b[0m \u001b[0mplt\u001b[0m\u001b[1;33m.\u001b[0m\u001b[0mxlim\u001b[0m\u001b[1;33m(\u001b[0m\u001b[1;33m[\u001b[0m\u001b[1;36m0.0\u001b[0m\u001b[1;33m,\u001b[0m \u001b[1;36m1.0\u001b[0m\u001b[1;33m]\u001b[0m\u001b[1;33m)\u001b[0m\u001b[1;33m\u001b[0m\u001b[1;33m\u001b[0m\u001b[0m\n",
      "\u001b[1;31mNameError\u001b[0m: name 'roc_auc' is not defined"
     ]
    },
    {
     "data": {
      "text/plain": [
       "<Figure size 432x288 with 0 Axes>"
      ]
     },
     "metadata": {},
     "output_type": "display_data"
    }
   ],
   "source": [
    "plt.figure()\n",
    "lw = 2\n",
    "plt.plot(fpr[2], tpr[2], color='darkorange',\n",
    "         lw=lw, label='ROC curve (area = %0.2f)' % roc_auc[2])\n",
    "plt.plot([0, 1], [0, 1], color='navy', lw=lw, linestyle='--')\n",
    "plt.xlim([0.0, 1.0])\n",
    "plt.ylim([0.0, 1.05])\n",
    "plt.xlabel('False Positive Rate')\n",
    "plt.ylabel('True Positive Rate')\n",
    "plt.title('Receiver operating characteristic example')\n",
    "plt.legend(loc=\"lower right\")\n",
    "plt.show()"
   ]
  },
  {
   "cell_type": "markdown",
   "metadata": {},
   "source": [
    "## NaiveBayes"
   ]
  },
  {
   "cell_type": "code",
   "execution_count": 68,
   "metadata": {},
   "outputs": [],
   "source": [
    "from sklearn.naive_bayes import MultinomialNB\n",
    "from sklearn.naive_bayes import GaussianNB\n"
   ]
  },
  {
   "cell_type": "code",
   "execution_count": 190,
   "metadata": {},
   "outputs": [
    {
     "data": {
      "text/plain": [
       "GaussianNB(priors=None, var_smoothing=1e-09)"
      ]
     },
     "execution_count": 190,
     "metadata": {},
     "output_type": "execute_result"
    }
   ],
   "source": [
    "modelo_NB = GaussianNB()\n",
    "modelo_NB.fit(X_train, y_train)"
   ]
  },
  {
   "cell_type": "code",
   "execution_count": 234,
   "metadata": {},
   "outputs": [
    {
     "data": {
      "text/plain": [
       "array([[292, 122],\n",
       "       [287, 852]], dtype=int64)"
      ]
     },
     "execution_count": 234,
     "metadata": {},
     "output_type": "execute_result"
    }
   ],
   "source": [
    "# Con los features de test transformados calculamos las labels predichas\n",
    "y_predNB = modelo_NB.predict(X_test)\n",
    "confusion_matrix(y_test, y_predNB)"
   ]
  },
  {
   "cell_type": "code",
   "execution_count": 232,
   "metadata": {},
   "outputs": [
    {
     "data": {
      "image/png": "[encoded data removed]",
      "text/plain": [
       "<Figure size 432x288 with 2 Axes>"
      ]
     },
     "metadata": {
      "needs_background": "light"
     },
     "output_type": "display_data"
    }
   ],
   "source": [
    "# Ahora graficamos la matriz de confusión\n",
    "sns.heatmap(confusion_matrix(y_test, y_predNB), annot=True, xticklabels=[\"Desaprobado\", \"Aprobado\"], yticklabels=[\"Desaprobado\", \"Aprobado\"])\n",
    "plt.ylabel('Verdaderos')\n",
    "plt.xlabel('Predichos');"
   ]
  },
  {
   "cell_type": "markdown",
   "metadata": {},
   "source": [
    "## Métricas NB"
   ]
  },
  {
   "cell_type": "code",
   "execution_count": 228,
   "metadata": {},
   "outputs": [
    {
     "name": "stdout",
     "output_type": "stream",
     "text": [
      "Métricas de predicción para test GaussianNB\n",
      "Accuracy: 73.66%\n",
      "Recall: 70.53%\n",
      "Precisión: 50.43%\n",
      "F1Score: 58.81%\n"
     ]
    }
   ],
   "source": [
    "print('Métricas de predicción para test GaussianNB')\n",
    "print(\"Accuracy:\",'{:.2%}'.format(metrics.accuracy_score(y_test, y_predNB)))\n",
    "print(\"Recall:\",'{:.2%}'.format(metrics.recall_score(y_test, y_predNB)))\n",
    "print(\"Precisión:\",'{:.2%}'.format(metrics.precision_score(y_test, y_predNB)))\n",
    "print(\"F1Score:\",'{:.2%}'.format(f1_score(y_test,y_predNB)))"
   ]
  },
  {
   "cell_type": "markdown",
   "metadata": {},
   "source": [
    "## TESTING PCA + GNB"
   ]
  },
  {
   "cell_type": "code",
   "execution_count": 142,
   "metadata": {},
   "outputs": [],
   "source": [
    "from sklearn.pipeline import make_pipeline\n",
    "from sklearn.decomposition import PCA\n",
    "from sklearn import metrics"
   ]
  },
  {
   "cell_type": "code",
   "execution_count": 210,
   "metadata": {},
   "outputs": [
    {
     "data": {
      "image/png": "[encoded data removed]",
      "text/plain": [
       "<Figure size 432x288 with 1 Axes>"
      ]
     },
     "metadata": {
      "needs_background": "light"
     },
     "output_type": "display_data"
    }
   ],
   "source": [
    "#Fiteamos PCA para nuestros datos\n",
    "pca = PCA().fit(X_train)\n",
    "#Gráfico de la varianza acumulada\n",
    "plt.figure()\n",
    "plt.plot(np.cumsum(pca.explained_variance_ratio_))\n",
    "plt.xlabel('Número de Componentes')\n",
    "plt.ylabel('Varianza (%)') #para cada componente\n",
    "plt.title('Varianza PISA Dataset')\n",
    "plt.show()"
   ]
  },
  {
   "cell_type": "code",
   "execution_count": 231,
   "metadata": {},
   "outputs": [
    {
     "name": "stdout",
     "output_type": "stream",
     "text": [
      "Métricas de predicción para test con PCA y GaussianNB\n",
      "Accuracy: 80.55%\n",
      "Recall: 50.72%\n",
      "Precisión: 68.18%\n",
      "F1Score: 58.17%\n"
     ]
    }
   ],
   "source": [
    "# Fit a nuestros datos y predicciones usando pipeline de GaussianNB y PCA.\n",
    "unscaled_clf = make_pipeline(PCA(n_components=15), GaussianNB())\n",
    "unscaled_clf.fit(X_train, y_train)\n",
    "pred_test = unscaled_clf.predict(X_test)\n",
    "\n",
    "# Métricas\n",
    "print('Métricas de predicción para test con PCA y GaussianNB')\n",
    "print(\"Accuracy:\",'{:.2%}'.format(metrics.accuracy_score(y_test, pred_test)))\n",
    "print(\"Recall:\",'{:.2%}'.format(metrics.recall_score(y_test, pred_test)))\n",
    "print(\"Precisión:\",'{:.2%}'.format(metrics.precision_score(y_test, pred_test)))\n",
    "print(\"F1Score:\",'{:.2%}'.format(f1_score(y_test,pred_test)))"
   ]
  },
  {
   "cell_type": "code",
   "execution_count": null,
   "metadata": {},
   "outputs": [],
   "source": []
  }
 ],
 "metadata": {
  "kernelspec": {
   "display_name": "Python 3",
   "language": "python",
   "name": "python3"
  }
 },
 "nbformat": 4,
 "nbformat_minor": 2
}
